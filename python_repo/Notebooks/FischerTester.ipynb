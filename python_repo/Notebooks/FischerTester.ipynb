{
 "cells": [
  {
   "cell_type": "markdown",
   "metadata": {},
   "source": [
    "# Import Library"
   ]
  },
  {
   "cell_type": "code",
   "execution_count": 1,
   "metadata": {},
   "outputs": [
    {
     "data": {
      "text/html": [
       "\n",
       "    <div class=\"bk-root\">\n",
       "        <a href=\"https://bokeh.pydata.org\" target=\"_blank\" class=\"bk-logo bk-logo-small bk-logo-notebook\"></a>\n",
       "        <span id=\"c6f6efdc-d511-4d3d-9cc7-086f549813fa\">Loading BokehJS ...</span>\n",
       "    </div>"
      ]
     },
     "metadata": {},
     "output_type": "display_data"
    },
    {
     "data": {
      "application/javascript": [
       "\n",
       "(function(root) {\n",
       "  function now() {\n",
       "    return new Date();\n",
       "  }\n",
       "\n",
       "  var force = true;\n",
       "\n",
       "  if (typeof (root._bokeh_onload_callbacks) === \"undefined\" || force === true) {\n",
       "    root._bokeh_onload_callbacks = [];\n",
       "    root._bokeh_is_loading = undefined;\n",
       "  }\n",
       "\n",
       "  var JS_MIME_TYPE = 'application/javascript';\n",
       "  var HTML_MIME_TYPE = 'text/html';\n",
       "  var EXEC_MIME_TYPE = 'application/vnd.bokehjs_exec.v0+json';\n",
       "  var CLASS_NAME = 'output_bokeh rendered_html';\n",
       "\n",
       "  /**\n",
       "   * Render data to the DOM node\n",
       "   */\n",
       "  function render(props, node) {\n",
       "    var script = document.createElement(\"script\");\n",
       "    node.appendChild(script);\n",
       "  }\n",
       "\n",
       "  /**\n",
       "   * Handle when an output is cleared or removed\n",
       "   */\n",
       "  function handleClearOutput(event, handle) {\n",
       "    var cell = handle.cell;\n",
       "\n",
       "    var id = cell.output_area._bokeh_element_id;\n",
       "    var server_id = cell.output_area._bokeh_server_id;\n",
       "    // Clean up Bokeh references\n",
       "    if (id !== undefined) {\n",
       "      Bokeh.index[id].model.document.clear();\n",
       "      delete Bokeh.index[id];\n",
       "    }\n",
       "\n",
       "    if (server_id !== undefined) {\n",
       "      // Clean up Bokeh references\n",
       "      var cmd = \"from bokeh.io.state import curstate; print(curstate().uuid_to_server['\" + server_id + \"'].get_sessions()[0].document.roots[0]._id)\";\n",
       "      cell.notebook.kernel.execute(cmd, {\n",
       "        iopub: {\n",
       "          output: function(msg) {\n",
       "            var element_id = msg.content.text.trim();\n",
       "            Bokeh.index[element_id].model.document.clear();\n",
       "            delete Bokeh.index[element_id];\n",
       "          }\n",
       "        }\n",
       "      });\n",
       "      // Destroy server and session\n",
       "      var cmd = \"import bokeh.io.notebook as ion; ion.destroy_server('\" + server_id + \"')\";\n",
       "      cell.notebook.kernel.execute(cmd);\n",
       "    }\n",
       "  }\n",
       "\n",
       "  /**\n",
       "   * Handle when a new output is added\n",
       "   */\n",
       "  function handleAddOutput(event, handle) {\n",
       "    var output_area = handle.output_area;\n",
       "    var output = handle.output;\n",
       "\n",
       "    // limit handleAddOutput to display_data with EXEC_MIME_TYPE content only\n",
       "    if ((output.output_type != \"display_data\") || (!output.data.hasOwnProperty(EXEC_MIME_TYPE))) {\n",
       "      return\n",
       "    }\n",
       "\n",
       "    var toinsert = output_area.element.find(`.${CLASS_NAME.split(' ')[0]}`);\n",
       "\n",
       "    if (output.metadata[EXEC_MIME_TYPE][\"id\"] !== undefined) {\n",
       "      toinsert[0].firstChild.textContent = output.data[JS_MIME_TYPE];\n",
       "      // store reference to embed id on output_area\n",
       "      output_area._bokeh_element_id = output.metadata[EXEC_MIME_TYPE][\"id\"];\n",
       "    }\n",
       "    if (output.metadata[EXEC_MIME_TYPE][\"server_id\"] !== undefined) {\n",
       "      var bk_div = document.createElement(\"div\");\n",
       "      bk_div.innerHTML = output.data[HTML_MIME_TYPE];\n",
       "      var script_attrs = bk_div.children[0].attributes;\n",
       "      for (var i = 0; i < script_attrs.length; i++) {\n",
       "        toinsert[0].firstChild.setAttribute(script_attrs[i].name, script_attrs[i].value);\n",
       "      }\n",
       "      // store reference to server id on output_area\n",
       "      output_area._bokeh_server_id = output.metadata[EXEC_MIME_TYPE][\"server_id\"];\n",
       "    }\n",
       "  }\n",
       "\n",
       "  function register_renderer(events, OutputArea) {\n",
       "\n",
       "    function append_mime(data, metadata, element) {\n",
       "      // create a DOM node to render to\n",
       "      var toinsert = this.create_output_subarea(\n",
       "        metadata,\n",
       "        CLASS_NAME,\n",
       "        EXEC_MIME_TYPE\n",
       "      );\n",
       "      this.keyboard_manager.register_events(toinsert);\n",
       "      // Render to node\n",
       "      var props = {data: data, metadata: metadata[EXEC_MIME_TYPE]};\n",
       "      render(props, toinsert[0]);\n",
       "      element.append(toinsert);\n",
       "      return toinsert\n",
       "    }\n",
       "\n",
       "    /* Handle when an output is cleared or removed */\n",
       "    events.on('clear_output.CodeCell', handleClearOutput);\n",
       "    events.on('delete.Cell', handleClearOutput);\n",
       "\n",
       "    /* Handle when a new output is added */\n",
       "    events.on('output_added.OutputArea', handleAddOutput);\n",
       "\n",
       "    /**\n",
       "     * Register the mime type and append_mime function with output_area\n",
       "     */\n",
       "    OutputArea.prototype.register_mime_type(EXEC_MIME_TYPE, append_mime, {\n",
       "      /* Is output safe? */\n",
       "      safe: true,\n",
       "      /* Index of renderer in `output_area.display_order` */\n",
       "      index: 0\n",
       "    });\n",
       "  }\n",
       "\n",
       "  // register the mime type if in Jupyter Notebook environment and previously unregistered\n",
       "  if (root.Jupyter !== undefined) {\n",
       "    var events = require('base/js/events');\n",
       "    var OutputArea = require('notebook/js/outputarea').OutputArea;\n",
       "\n",
       "    if (OutputArea.prototype.mime_types().indexOf(EXEC_MIME_TYPE) == -1) {\n",
       "      register_renderer(events, OutputArea);\n",
       "    }\n",
       "  }\n",
       "\n",
       "  \n",
       "  if (typeof (root._bokeh_timeout) === \"undefined\" || force === true) {\n",
       "    root._bokeh_timeout = Date.now() + 5000;\n",
       "    root._bokeh_failed_load = false;\n",
       "  }\n",
       "\n",
       "  var NB_LOAD_WARNING = {'data': {'text/html':\n",
       "     \"<div style='background-color: #fdd'>\\n\"+\n",
       "     \"<p>\\n\"+\n",
       "     \"BokehJS does not appear to have successfully loaded. If loading BokehJS from CDN, this \\n\"+\n",
       "     \"may be due to a slow or bad network connection. Possible fixes:\\n\"+\n",
       "     \"</p>\\n\"+\n",
       "     \"<ul>\\n\"+\n",
       "     \"<li>re-rerun `output_notebook()` to attempt to load from CDN again, or</li>\\n\"+\n",
       "     \"<li>use INLINE resources instead, as so:</li>\\n\"+\n",
       "     \"</ul>\\n\"+\n",
       "     \"<code>\\n\"+\n",
       "     \"from bokeh.resources import INLINE\\n\"+\n",
       "     \"output_notebook(resources=INLINE)\\n\"+\n",
       "     \"</code>\\n\"+\n",
       "     \"</div>\"}};\n",
       "\n",
       "  function display_loaded() {\n",
       "    var el = document.getElementById(\"c6f6efdc-d511-4d3d-9cc7-086f549813fa\");\n",
       "    if (el != null) {\n",
       "      el.textContent = \"BokehJS is loading...\";\n",
       "    }\n",
       "    if (root.Bokeh !== undefined) {\n",
       "      if (el != null) {\n",
       "        el.textContent = \"BokehJS \" + root.Bokeh.version + \" successfully loaded.\";\n",
       "      }\n",
       "    } else if (Date.now() < root._bokeh_timeout) {\n",
       "      setTimeout(display_loaded, 100)\n",
       "    }\n",
       "  }\n",
       "\n",
       "\n",
       "  function run_callbacks() {\n",
       "    try {\n",
       "      root._bokeh_onload_callbacks.forEach(function(callback) { callback() });\n",
       "    }\n",
       "    finally {\n",
       "      delete root._bokeh_onload_callbacks\n",
       "    }\n",
       "    console.info(\"Bokeh: all callbacks have finished\");\n",
       "  }\n",
       "\n",
       "  function load_libs(js_urls, callback) {\n",
       "    root._bokeh_onload_callbacks.push(callback);\n",
       "    if (root._bokeh_is_loading > 0) {\n",
       "      console.log(\"Bokeh: BokehJS is being loaded, scheduling callback at\", now());\n",
       "      return null;\n",
       "    }\n",
       "    if (js_urls == null || js_urls.length === 0) {\n",
       "      run_callbacks();\n",
       "      return null;\n",
       "    }\n",
       "    console.log(\"Bokeh: BokehJS not loaded, scheduling load and callback at\", now());\n",
       "    root._bokeh_is_loading = js_urls.length;\n",
       "    for (var i = 0; i < js_urls.length; i++) {\n",
       "      var url = js_urls[i];\n",
       "      var s = document.createElement('script');\n",
       "      s.src = url;\n",
       "      s.async = false;\n",
       "      s.onreadystatechange = s.onload = function() {\n",
       "        root._bokeh_is_loading--;\n",
       "        if (root._bokeh_is_loading === 0) {\n",
       "          console.log(\"Bokeh: all BokehJS libraries loaded\");\n",
       "          run_callbacks()\n",
       "        }\n",
       "      };\n",
       "      s.onerror = function() {\n",
       "        console.warn(\"failed to load library \" + url);\n",
       "      };\n",
       "      console.log(\"Bokeh: injecting script tag for BokehJS library: \", url);\n",
       "      document.getElementsByTagName(\"head\")[0].appendChild(s);\n",
       "    }\n",
       "  };var element = document.getElementById(\"c6f6efdc-d511-4d3d-9cc7-086f549813fa\");\n",
       "  if (element == null) {\n",
       "    console.log(\"Bokeh: ERROR: autoload.js configured with elementid 'c6f6efdc-d511-4d3d-9cc7-086f549813fa' but no matching script tag was found. \")\n",
       "    return false;\n",
       "  }\n",
       "\n",
       "  var js_urls = [\"https://cdn.pydata.org/bokeh/release/bokeh-0.12.10.min.js\", \"https://cdn.pydata.org/bokeh/release/bokeh-widgets-0.12.10.min.js\", \"https://cdn.pydata.org/bokeh/release/bokeh-tables-0.12.10.min.js\", \"https://cdn.pydata.org/bokeh/release/bokeh-gl-0.12.10.min.js\"];\n",
       "\n",
       "  var inline_js = [\n",
       "    function(Bokeh) {\n",
       "      Bokeh.set_log_level(\"info\");\n",
       "    },\n",
       "    \n",
       "    function(Bokeh) {\n",
       "      \n",
       "    },\n",
       "    function(Bokeh) {\n",
       "      console.log(\"Bokeh: injecting CSS: https://cdn.pydata.org/bokeh/release/bokeh-0.12.10.min.css\");\n",
       "      Bokeh.embed.inject_css(\"https://cdn.pydata.org/bokeh/release/bokeh-0.12.10.min.css\");\n",
       "      console.log(\"Bokeh: injecting CSS: https://cdn.pydata.org/bokeh/release/bokeh-widgets-0.12.10.min.css\");\n",
       "      Bokeh.embed.inject_css(\"https://cdn.pydata.org/bokeh/release/bokeh-widgets-0.12.10.min.css\");\n",
       "      console.log(\"Bokeh: injecting CSS: https://cdn.pydata.org/bokeh/release/bokeh-tables-0.12.10.min.css\");\n",
       "      Bokeh.embed.inject_css(\"https://cdn.pydata.org/bokeh/release/bokeh-tables-0.12.10.min.css\");\n",
       "    }\n",
       "  ];\n",
       "\n",
       "  function run_inline_js() {\n",
       "    \n",
       "    if ((root.Bokeh !== undefined) || (force === true)) {\n",
       "      for (var i = 0; i < inline_js.length; i++) {\n",
       "        inline_js[i].call(root, root.Bokeh);\n",
       "      }if (force === true) {\n",
       "        display_loaded();\n",
       "      }} else if (Date.now() < root._bokeh_timeout) {\n",
       "      setTimeout(run_inline_js, 100);\n",
       "    } else if (!root._bokeh_failed_load) {\n",
       "      console.log(\"Bokeh: BokehJS failed to load within specified timeout.\");\n",
       "      root._bokeh_failed_load = true;\n",
       "    } else if (force !== true) {\n",
       "      var cell = $(document.getElementById(\"c6f6efdc-d511-4d3d-9cc7-086f549813fa\")).parents('.cell').data().cell;\n",
       "      cell.output_area.append_execute_result(NB_LOAD_WARNING)\n",
       "    }\n",
       "\n",
       "  }\n",
       "\n",
       "  if (root._bokeh_is_loading === 0) {\n",
       "    console.log(\"Bokeh: BokehJS loaded, going straight to plotting\");\n",
       "    run_inline_js();\n",
       "  } else {\n",
       "    load_libs(js_urls, function() {\n",
       "      console.log(\"Bokeh: BokehJS plotting callback run at\", now());\n",
       "      run_inline_js();\n",
       "    });\n",
       "  }\n",
       "}(window));"
      ],
      "application/vnd.bokehjs_load.v0+json": "\n(function(root) {\n  function now() {\n    return new Date();\n  }\n\n  var force = true;\n\n  if (typeof (root._bokeh_onload_callbacks) === \"undefined\" || force === true) {\n    root._bokeh_onload_callbacks = [];\n    root._bokeh_is_loading = undefined;\n  }\n\n  \n\n  \n  if (typeof (root._bokeh_timeout) === \"undefined\" || force === true) {\n    root._bokeh_timeout = Date.now() + 5000;\n    root._bokeh_failed_load = false;\n  }\n\n  var NB_LOAD_WARNING = {'data': {'text/html':\n     \"<div style='background-color: #fdd'>\\n\"+\n     \"<p>\\n\"+\n     \"BokehJS does not appear to have successfully loaded. If loading BokehJS from CDN, this \\n\"+\n     \"may be due to a slow or bad network connection. Possible fixes:\\n\"+\n     \"</p>\\n\"+\n     \"<ul>\\n\"+\n     \"<li>re-rerun `output_notebook()` to attempt to load from CDN again, or</li>\\n\"+\n     \"<li>use INLINE resources instead, as so:</li>\\n\"+\n     \"</ul>\\n\"+\n     \"<code>\\n\"+\n     \"from bokeh.resources import INLINE\\n\"+\n     \"output_notebook(resources=INLINE)\\n\"+\n     \"</code>\\n\"+\n     \"</div>\"}};\n\n  function display_loaded() {\n    var el = document.getElementById(\"c6f6efdc-d511-4d3d-9cc7-086f549813fa\");\n    if (el != null) {\n      el.textContent = \"BokehJS is loading...\";\n    }\n    if (root.Bokeh !== undefined) {\n      if (el != null) {\n        el.textContent = \"BokehJS \" + root.Bokeh.version + \" successfully loaded.\";\n      }\n    } else if (Date.now() < root._bokeh_timeout) {\n      setTimeout(display_loaded, 100)\n    }\n  }\n\n\n  function run_callbacks() {\n    try {\n      root._bokeh_onload_callbacks.forEach(function(callback) { callback() });\n    }\n    finally {\n      delete root._bokeh_onload_callbacks\n    }\n    console.info(\"Bokeh: all callbacks have finished\");\n  }\n\n  function load_libs(js_urls, callback) {\n    root._bokeh_onload_callbacks.push(callback);\n    if (root._bokeh_is_loading > 0) {\n      console.log(\"Bokeh: BokehJS is being loaded, scheduling callback at\", now());\n      return null;\n    }\n    if (js_urls == null || js_urls.length === 0) {\n      run_callbacks();\n      return null;\n    }\n    console.log(\"Bokeh: BokehJS not loaded, scheduling load and callback at\", now());\n    root._bokeh_is_loading = js_urls.length;\n    for (var i = 0; i < js_urls.length; i++) {\n      var url = js_urls[i];\n      var s = document.createElement('script');\n      s.src = url;\n      s.async = false;\n      s.onreadystatechange = s.onload = function() {\n        root._bokeh_is_loading--;\n        if (root._bokeh_is_loading === 0) {\n          console.log(\"Bokeh: all BokehJS libraries loaded\");\n          run_callbacks()\n        }\n      };\n      s.onerror = function() {\n        console.warn(\"failed to load library \" + url);\n      };\n      console.log(\"Bokeh: injecting script tag for BokehJS library: \", url);\n      document.getElementsByTagName(\"head\")[0].appendChild(s);\n    }\n  };var element = document.getElementById(\"c6f6efdc-d511-4d3d-9cc7-086f549813fa\");\n  if (element == null) {\n    console.log(\"Bokeh: ERROR: autoload.js configured with elementid 'c6f6efdc-d511-4d3d-9cc7-086f549813fa' but no matching script tag was found. \")\n    return false;\n  }\n\n  var js_urls = [\"https://cdn.pydata.org/bokeh/release/bokeh-0.12.10.min.js\", \"https://cdn.pydata.org/bokeh/release/bokeh-widgets-0.12.10.min.js\", \"https://cdn.pydata.org/bokeh/release/bokeh-tables-0.12.10.min.js\", \"https://cdn.pydata.org/bokeh/release/bokeh-gl-0.12.10.min.js\"];\n\n  var inline_js = [\n    function(Bokeh) {\n      Bokeh.set_log_level(\"info\");\n    },\n    \n    function(Bokeh) {\n      \n    },\n    function(Bokeh) {\n      console.log(\"Bokeh: injecting CSS: https://cdn.pydata.org/bokeh/release/bokeh-0.12.10.min.css\");\n      Bokeh.embed.inject_css(\"https://cdn.pydata.org/bokeh/release/bokeh-0.12.10.min.css\");\n      console.log(\"Bokeh: injecting CSS: https://cdn.pydata.org/bokeh/release/bokeh-widgets-0.12.10.min.css\");\n      Bokeh.embed.inject_css(\"https://cdn.pydata.org/bokeh/release/bokeh-widgets-0.12.10.min.css\");\n      console.log(\"Bokeh: injecting CSS: https://cdn.pydata.org/bokeh/release/bokeh-tables-0.12.10.min.css\");\n      Bokeh.embed.inject_css(\"https://cdn.pydata.org/bokeh/release/bokeh-tables-0.12.10.min.css\");\n    }\n  ];\n\n  function run_inline_js() {\n    \n    if ((root.Bokeh !== undefined) || (force === true)) {\n      for (var i = 0; i < inline_js.length; i++) {\n        inline_js[i].call(root, root.Bokeh);\n      }if (force === true) {\n        display_loaded();\n      }} else if (Date.now() < root._bokeh_timeout) {\n      setTimeout(run_inline_js, 100);\n    } else if (!root._bokeh_failed_load) {\n      console.log(\"Bokeh: BokehJS failed to load within specified timeout.\");\n      root._bokeh_failed_load = true;\n    } else if (force !== true) {\n      var cell = $(document.getElementById(\"c6f6efdc-d511-4d3d-9cc7-086f549813fa\")).parents('.cell').data().cell;\n      cell.output_area.append_execute_result(NB_LOAD_WARNING)\n    }\n\n  }\n\n  if (root._bokeh_is_loading === 0) {\n    console.log(\"Bokeh: BokehJS loaded, going straight to plotting\");\n    run_inline_js();\n  } else {\n    load_libs(js_urls, function() {\n      console.log(\"Bokeh: BokehJS plotting callback run at\", now());\n      run_inline_js();\n    });\n  }\n}(window));"
     },
     "metadata": {},
     "output_type": "display_data"
    }
   ],
   "source": [
    "import FischerTester"
   ]
  },
  {
   "cell_type": "markdown",
   "metadata": {},
   "source": [
    "# Initialize Labjack"
   ]
  },
  {
   "cell_type": "code",
   "execution_count": 2,
   "metadata": {},
   "outputs": [],
   "source": [
    "ft = FischerTester.FT(\"LJ1\")"
   ]
  },
  {
   "cell_type": "markdown",
   "metadata": {},
   "source": [
    "# Measure\n",
    "\n",
    "Measure all resistances of a Fischer Connector. \n",
    "The default voltage of 0.1 Volt leads to a maximum current of I = U/R = 100 uA with the internal 1 kOhm resitance of the Labjack tester.\n",
    "However, if the current flows back over a ground loop the maximum current can be higher than 100 uA!!"
   ]
  },
  {
   "cell_type": "code",
   "execution_count": 3,
   "metadata": {},
   "outputs": [
    {
     "name": "stdout",
     "output_type": "stream",
     "text": [
      "ATTENTION: GROUND LOOP DETECTED\n"
     ]
    },
    {
     "data": {
      "text/html": [
       "\n",
       "<div class=\"bk-root\">\n",
       "    <div class=\"bk-plotdiv\" id=\"0c5dd099-afe5-4388-8321-48f69c17cd7c\"></div>\n",
       "</div>"
      ]
     },
     "metadata": {},
     "output_type": "display_data"
    },
    {
     "data": {
      "application/javascript": [
       "(function(root) {\n",
       "  function embed_document(root) {\n",
       "    var docs_json = {\"665da248-6c33-404e-ba6d-31223d7669e5\":{\"roots\":{\"references\":[{\"attributes\":{\"callback\":null,\"end\":25.5,\"start\":0.5},\"id\":\"52abdb24-2385-4eaa-ac2d-cf715d973a79\",\"type\":\"Range1d\"},{\"attributes\":{},\"id\":\"377792ca-9e50-4f17-b42d-3515bda4be05\",\"type\":\"PanTool\"},{\"attributes\":{},\"id\":\"02456a2a-1ad2-4ee7-adc1-a9b00c5e6dca\",\"type\":\"WheelZoomTool\"},{\"attributes\":{\"active_drag\":\"auto\",\"active_inspect\":\"auto\",\"active_scroll\":\"auto\",\"active_tap\":\"auto\",\"tools\":[{\"id\":\"ad2ccfd4-011e-4ba7-8654-5f98faf0c0f1\",\"type\":\"HoverTool\"},{\"id\":\"5241adaa-373e-4097-9bd0-c0705848e535\",\"type\":\"SaveTool\"},{\"id\":\"377792ca-9e50-4f17-b42d-3515bda4be05\",\"type\":\"PanTool\"},{\"id\":\"8ad7c900-3076-4138-a70d-6709c7953207\",\"type\":\"BoxZoomTool\"},{\"id\":\"192aa91a-848e-4fdf-ae48-15e1f8481d04\",\"type\":\"ResetTool\"},{\"id\":\"02456a2a-1ad2-4ee7-adc1-a9b00c5e6dca\",\"type\":\"WheelZoomTool\"}]},\"id\":\"8554efad-fde7-43b6-9fb3-9e1d081917fe\",\"type\":\"Toolbar\"},{\"attributes\":{},\"id\":\"d3e33d89-835d-4c65-8539-bc8357eca1d1\",\"type\":\"LinearScale\"},{\"attributes\":{\"axis_line_color\":{\"value\":null},\"formatter\":{\"id\":\"bddffa2a-5612-4adf-8641-b42e69f0059a\",\"type\":\"BasicTickFormatter\"},\"major_tick_line_color\":{\"value\":null},\"plot\":{\"id\":\"1df13f87-62fa-492c-aa1b-7eb09631e8a8\",\"subtype\":\"Figure\",\"type\":\"Plot\"},\"ticker\":{\"id\":\"f25eceaa-e192-4939-a9c7-f814ef7ce336\",\"type\":\"BasicTicker\"}},\"id\":\"673ca785-607d-4d30-937d-f2320d1d149a\",\"type\":\"LinearAxis\"},{\"attributes\":{},\"id\":\"5241adaa-373e-4097-9bd0-c0705848e535\",\"type\":\"SaveTool\"},{\"attributes\":{\"high\":5000000.0,\"low\":0,\"palette\":[\"#09a800\",\"#0da902\",\"#10aa04\",\"#13ac06\",\"#17ad08\",\"#1aaf0a\",\"#1eb00c\",\"#21b10e\",\"#25b310\",\"#28b412\",\"#2bb514\",\"#2fb717\",\"#32b819\",\"#36ba1b\",\"#39bb1d\",\"#3cbc1f\",\"#40be21\",\"#43bf23\",\"#47c125\",\"#4ac227\",\"#4dc329\",\"#51c52b\",\"#54c62d\",\"#58c72f\",\"#5bc931\",\"#5eca33\",\"#62cc35\",\"#65cd37\",\"#69ce39\",\"#6cd03b\",\"#6fd13d\",\"#73d340\",\"#76d442\",\"#7ad544\",\"#7dd746\",\"#80d848\",\"#84d94a\",\"#87db4c\",\"#8bdc4e\",\"#8ede50\",\"#92df52\",\"#95e054\",\"#98e256\",\"#9ce358\",\"#9fe45a\",\"#a3e65c\",\"#a6e75e\",\"#a9e960\",\"#adea62\",\"#b0eb64\",\"#b4ed66\",\"#b7ee68\",\"#baf06b\",\"#bef16d\",\"#c1f26f\",\"#c5f471\",\"#c8f573\",\"#cbf675\",\"#cff877\",\"#d2f979\",\"#d6fb7b\",\"#d9fc7d\",\"#dcfd7f\",\"#e0ff81\",\"#e3ff82\",\"#e3fb80\",\"#e3f77e\",\"#e4f37c\",\"#e4ef7a\",\"#e5eb78\",\"#e5e776\",\"#e6e374\",\"#e6df72\",\"#e7db70\",\"#e7d76e\",\"#e8d36c\",\"#e8cf69\",\"#e9cb67\",\"#e9c765\",\"#e9c363\",\"#eabf61\",\"#eabb5f\",\"#ebb75d\",\"#ebb35b\",\"#ecaf59\",\"#ecab57\",\"#eda755\",\"#eda253\",\"#ee9e51\",\"#ee9a4f\",\"#ef964d\",\"#ef924b\",\"#ef8e49\",\"#f08a47\",\"#f08645\",\"#f18243\",\"#f17e41\",\"#f27a3e\",\"#f2763c\",\"#f3723a\",\"#f36e38\",\"#f46a36\",\"#f46634\",\"#f46232\",\"#f55e30\",\"#f55a2e\",\"#f6562c\",\"#f6522a\",\"#f74e28\",\"#f74a26\",\"#f84624\",\"#f84222\",\"#f93e20\",\"#f93a1e\",\"#fa361c\",\"#fa321a\",\"#fa2e18\",\"#fb2a16\",\"#fb2613\",\"#fc2211\",\"#fc1e0f\",\"#fd1a0d\",\"#fd160b\",\"#fe1209\",\"#fe0e07\",\"#ff0a05\",\"#ff0603\",\"#ff0201\",\"#ff0202\",\"#ff0505\",\"#ff0909\",\"#ff0c0c\",\"#ff1010\",\"#ff1313\",\"#ff1717\",\"#ff1a1a\",\"#ff1e1e\",\"#ff2121\",\"#ff2525\",\"#ff2828\",\"#ff2c2c\",\"#ff2f2f\",\"#ff3333\",\"#ff3636\",\"#ff3a3a\",\"#ff3e3d\",\"#ff4141\",\"#ff4544\",\"#ff4848\",\"#ff4c4b\",\"#ff4f4f\",\"#ff5352\",\"#ff5656\",\"#ff5a59\",\"#ff5d5d\",\"#ff6160\",\"#ff6464\",\"#ff6867\",\"#ff6b6b\",\"#ff6f6e\",\"#ff7272\",\"#ff7675\",\"#ff7979\",\"#ff7d7c\",\"#ff8080\",\"#ff8483\",\"#ff8787\",\"#ff8b8a\",\"#ff8e8e\",\"#ff9291\",\"#ff9595\",\"#ff9998\",\"#ff9c9c\",\"#ffa09f\",\"#ffa3a3\",\"#ffa7a6\",\"#ffaaaa\",\"#ffaead\",\"#ffb2b1\",\"#ffb5b4\",\"#ffb9b8\",\"#ffbcbb\",\"#ffc0bf\",\"#ffc3c2\",\"#ffc7c6\",\"#ffcac9\",\"#ffcecd\",\"#ffd1d0\",\"#ffd5d4\",\"#ffd8d7\",\"#ffdcdb\",\"#ffdfde\",\"#ffe0e0\",\"#ffe1e0\",\"#ffe1e1\",\"#ffe2e1\",\"#ffe2e2\",\"#ffe3e2\",\"#ffe3e3\",\"#ffe4e3\",\"#ffe4e4\",\"#ffe5e4\",\"#ffe5e5\",\"#ffe6e5\",\"#ffe6e6\",\"#ffe7e6\",\"#ffe7e7\",\"#ffe8e7\",\"#ffe8e8\",\"#ffe9e8\",\"#ffe9e9\",\"#ffeae9\",\"#ffeaea\",\"#ffebea\",\"#ffebeb\",\"#ffeceb\",\"#ffecec\",\"#ffedec\",\"#ffeded\",\"#ffeeed\",\"#ffeeee\",\"#ffefee\",\"#ffefef\",\"#fff0ef\",\"#fff0f0\",\"#fff1f1\",\"#fff1f1\",\"#fff2f2\",\"#fff2f2\",\"#fff3f3\",\"#fff3f3\",\"#fff4f4\",\"#fff4f4\",\"#fff5f5\",\"#fff5f5\",\"#fff6f6\",\"#fff6f6\",\"#fff7f7\",\"#fff7f7\",\"#fff8f8\",\"#fff8f8\",\"#fff9f9\",\"#fff9f9\",\"#fffafa\",\"#fffafa\",\"#fffbfb\",\"#fffbfb\",\"#fffcfc\",\"#fffcfc\",\"#fffdfd\",\"#fffdfd\",\"#fffefe\",\"#fffefe\",\"#ffffff\",\"#ffffff\",\"#ffffff\"]},\"id\":\"599aa4fa-abd5-435e-9943-9af035f48a2b\",\"type\":\"LogColorMapper\"},{\"attributes\":{},\"id\":\"088b7736-ac74-47c4-90a5-d83bca775d5a\",\"type\":\"LogTicker\"},{\"attributes\":{},\"id\":\"52a7a22f-57b6-4bbc-a236-5e49c03868f3\",\"type\":\"BasicTickFormatter\"},{\"attributes\":{},\"id\":\"1232a4c1-3fb7-40ee-bc91-22f2a1d0c723\",\"type\":\"LinearScale\"},{\"attributes\":{\"dimension\":1,\"grid_line_color\":{\"value\":null},\"plot\":{\"id\":\"1df13f87-62fa-492c-aa1b-7eb09631e8a8\",\"subtype\":\"Figure\",\"type\":\"Plot\"},\"ticker\":{\"id\":\"f25eceaa-e192-4939-a9c7-f814ef7ce336\",\"type\":\"BasicTicker\"}},\"id\":\"0aec58e4-54c6-40ba-93d8-fd3934eca9df\",\"type\":\"Grid\"},{\"attributes\":{\"bottom_units\":\"screen\",\"fill_alpha\":{\"value\":0.5},\"fill_color\":{\"value\":\"lightgrey\"},\"left_units\":\"screen\",\"level\":\"overlay\",\"line_alpha\":{\"value\":1.0},\"line_color\":{\"value\":\"black\"},\"line_dash\":[4,4],\"line_width\":{\"value\":2},\"plot\":null,\"render_mode\":\"css\",\"right_units\":\"screen\",\"top_units\":\"screen\"},\"id\":\"f0beb439-b0d8-4a71-b885-8a2c967a5491\",\"type\":\"BoxAnnotation\"},{\"attributes\":{\"callback\":null,\"column_names\":[\"Out\",\"In\",\"Res\",\"index\"],\"data\":{\"In\":[1,1,1,1,1,1,1,1,1,1,1,1,1,1,1,1,1,1,1,1,1,1,1,1,1,2,2,2,2,2,2,2,2,2,2,2,2,2,2,2,2,2,2,2,2,2,2,2,2,2,3,3,3,3,3,3,3,3,3,3,3,3,3,3,3,3,3,3,3,3,3,3,3,3,3,4,4,4,4,4,4,4,4,4,4,4,4,4,4,4,4,4,4,4,4,4,4,4,4,4,5,5,5,5,5,5,5,5,5,5,5,5,5,5,5,5,5,5,5,5,5,5,5,5,5,6,6,6,6,6,6,6,6,6,6,6,6,6,6,6,6,6,6,6,6,6,6,6,6,6,7,7,7,7,7,7,7,7,7,7,7,7,7,7,7,7,7,7,7,7,7,7,7,7,7,8,8,8,8,8,8,8,8,8,8,8,8,8,8,8,8,8,8,8,8,8,8,8,8,8,9,9,9,9,9,9,9,9,9,9,9,9,9,9,9,9,9,9,9,9,9,9,9,9,9,10,10,10,10,10,10,10,10,10,10,10,10,10,10,10,10,10,10,10,10,10,10,10,10,10,11,11,11,11,11,11,11,11,11,11,11,11,11,11,11,11,11,11,11,11,11,11,11,11,11,12,12,12,12,12,12,12,12,12,12,12,12,12,12,12,12,12,12,12,12,12,12,12,12,12,13,13,13,13,13,13,13,13,13,13,13,13,13,13,13,13,13,13,13,13,13,13,13,13,13,14,14,14,14,14,14,14,14,14,14,14,14,14,14,14,14,14,14,14,14,14,14,14,14,14,15,15,15,15,15,15,15,15,15,15,15,15,15,15,15,15,15,15,15,15,15,15,15,15,15,16,16,16,16,16,16,16,16,16,16,16,16,16,16,16,16,16,16,16,16,16,16,16,16,16,17,17,17,17,17,17,17,17,17,17,17,17,17,17,17,17,17,17,17,17,17,17,17,17,17,18,18,18,18,18,18,18,18,18,18,18,18,18,18,18,18,18,18,18,18,18,18,18,18,18,19,19,19,19,19,19,19,19,19,19,19,19,19,19,19,19,19,19,19,19,19,19,19,19,19,20,20,20,20,20,20,20,20,20,20,20,20,20,20,20,20,20,20,20,20,20,20,20,20,20,21,21,21,21,21,21,21,21,21,21,21,21,21,21,21,21,21,21,21,21,21,21,21,21,21,22,22,22,22,22,22,22,22,22,22,22,22,22,22,22,22,22,22,22,22,22,22,22,22,22,23,23,23,23,23,23,23,23,23,23,23,23,23,23,23,23,23,23,23,23,23,23,23,23,23,24,24,24,24,24,24,24,24,24,24,24,24,24,24,24,24,24,24,24,24,24,24,24,24,24,25,25,25,25,25,25,25,25,25,25,25,25,25,25,25,25,25,25,25,25,25,25,25,25,25],\"Out\":[1,2,3,4,5,6,7,8,9,10,11,12,13,14,15,16,17,18,19,20,21,22,23,24,25,1,2,3,4,5,6,7,8,9,10,11,12,13,14,15,16,17,18,19,20,21,22,23,24,25,1,2,3,4,5,6,7,8,9,10,11,12,13,14,15,16,17,18,19,20,21,22,23,24,25,1,2,3,4,5,6,7,8,9,10,11,12,13,14,15,16,17,18,19,20,21,22,23,24,25,1,2,3,4,5,6,7,8,9,10,11,12,13,14,15,16,17,18,19,20,21,22,23,24,25,1,2,3,4,5,6,7,8,9,10,11,12,13,14,15,16,17,18,19,20,21,22,23,24,25,1,2,3,4,5,6,7,8,9,10,11,12,13,14,15,16,17,18,19,20,21,22,23,24,25,1,2,3,4,5,6,7,8,9,10,11,12,13,14,15,16,17,18,19,20,21,22,23,24,25,1,2,3,4,5,6,7,8,9,10,11,12,13,14,15,16,17,18,19,20,21,22,23,24,25,1,2,3,4,5,6,7,8,9,10,11,12,13,14,15,16,17,18,19,20,21,22,23,24,25,1,2,3,4,5,6,7,8,9,10,11,12,13,14,15,16,17,18,19,20,21,22,23,24,25,1,2,3,4,5,6,7,8,9,10,11,12,13,14,15,16,17,18,19,20,21,22,23,24,25,1,2,3,4,5,6,7,8,9,10,11,12,13,14,15,16,17,18,19,20,21,22,23,24,25,1,2,3,4,5,6,7,8,9,10,11,12,13,14,15,16,17,18,19,20,21,22,23,24,25,1,2,3,4,5,6,7,8,9,10,11,12,13,14,15,16,17,18,19,20,21,22,23,24,25,1,2,3,4,5,6,7,8,9,10,11,12,13,14,15,16,17,18,19,20,21,22,23,24,25,1,2,3,4,5,6,7,8,9,10,11,12,13,14,15,16,17,18,19,20,21,22,23,24,25,1,2,3,4,5,6,7,8,9,10,11,12,13,14,15,16,17,18,19,20,21,22,23,24,25,1,2,3,4,5,6,7,8,9,10,11,12,13,14,15,16,17,18,19,20,21,22,23,24,25,1,2,3,4,5,6,7,8,9,10,11,12,13,14,15,16,17,18,19,20,21,22,23,24,25,1,2,3,4,5,6,7,8,9,10,11,12,13,14,15,16,17,18,19,20,21,22,23,24,25,1,2,3,4,5,6,7,8,9,10,11,12,13,14,15,16,17,18,19,20,21,22,23,24,25,1,2,3,4,5,6,7,8,9,10,11,12,13,14,15,16,17,18,19,20,21,22,23,24,25,1,2,3,4,5,6,7,8,9,10,11,12,13,14,15,16,17,18,19,20,21,22,23,24,25,1,2,3,4,5,6,7,8,9,10,11,12,13,14,15,16,17,18,19,20,21,22,23,24,25],\"Res\":{\"__ndarray__\":\"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\",\"dtype\":\"float64\",\"shape\":[625]},\"index\":[0,1,2,3,4,5,6,7,8,9,10,11,12,13,14,15,16,17,18,19,20,21,22,23,24,25,26,27,28,29,30,31,32,33,34,35,36,37,38,39,40,41,42,43,44,45,46,47,48,49,50,51,52,53,54,55,56,57,58,59,60,61,62,63,64,65,66,67,68,69,70,71,72,73,74,75,76,77,78,79,80,81,82,83,84,85,86,87,88,89,90,91,92,93,94,95,96,97,98,99,100,101,102,103,104,105,106,107,108,109,110,111,112,113,114,115,116,117,118,119,120,121,122,123,124,125,126,127,128,129,130,131,132,133,134,135,136,137,138,139,140,141,142,143,144,145,146,147,148,149,150,151,152,153,154,155,156,157,158,159,160,161,162,163,164,165,166,167,168,169,170,171,172,173,174,175,176,177,178,179,180,181,182,183,184,185,186,187,188,189,190,191,192,193,194,195,196,197,198,199,200,201,202,203,204,205,206,207,208,209,210,211,212,213,214,215,216,217,218,219,220,221,222,223,224,225,226,227,228,229,230,231,232,233,234,235,236,237,238,239,240,241,242,243,244,245,246,247,248,249,250,251,252,253,254,255,256,257,258,259,260,261,262,263,264,265,266,267,268,269,270,271,272,273,274,275,276,277,278,279,280,281,282,283,284,285,286,287,288,289,290,291,292,293,294,295,296,297,298,299,300,301,302,303,304,305,306,307,308,309,310,311,312,313,314,315,316,317,318,319,320,321,322,323,324,325,326,327,328,329,330,331,332,333,334,335,336,337,338,339,340,341,342,343,344,345,346,347,348,349,350,351,352,353,354,355,356,357,358,359,360,361,362,363,364,365,366,367,368,369,370,371,372,373,374,375,376,377,378,379,380,381,382,383,384,385,386,387,388,389,390,391,392,393,394,395,396,397,398,399,400,401,402,403,404,405,406,407,408,409,410,411,412,413,414,415,416,417,418,419,420,421,422,423,424,425,426,427,428,429,430,431,432,433,434,435,436,437,438,439,440,441,442,443,444,445,446,447,448,449,450,451,452,453,454,455,456,457,458,459,460,461,462,463,464,465,466,467,468,469,470,471,472,473,474,475,476,477,478,479,480,481,482,483,484,485,486,487,488,489,490,491,492,493,494,495,496,497,498,499,500,501,502,503,504,505,506,507,508,509,510,511,512,513,514,515,516,517,518,519,520,521,522,523,524,525,526,527,528,529,530,531,532,533,534,535,536,537,538,539,540,541,542,543,544,545,546,547,548,549,550,551,552,553,554,555,556,557,558,559,560,561,562,563,564,565,566,567,568,569,570,571,572,573,574,575,576,577,578,579,580,581,582,583,584,585,586,587,588,589,590,591,592,593,594,595,596,597,598,599,600,601,602,603,604,605,606,607,608,609,610,611,612,613,614,615,616,617,618,619,620,621,622,623,624]}},\"id\":\"ce089d1b-1653-465a-9f4d-6f625d548c13\",\"type\":\"ColumnDataSource\"},{\"attributes\":{},\"id\":\"bddffa2a-5612-4adf-8641-b42e69f0059a\",\"type\":\"BasicTickFormatter\"},{\"attributes\":{\"plot\":null,\"text\":\"Fischer Tester\"},\"id\":\"4a8051db-7583-4546-a09a-62f32bf9162a\",\"type\":\"Title\"},{\"attributes\":{\"fill_alpha\":{\"value\":0.1},\"fill_color\":{\"value\":\"#1f77b4\"},\"height\":{\"units\":\"data\",\"value\":1},\"line_alpha\":{\"value\":0.1},\"line_color\":{\"value\":\"#1f77b4\"},\"width\":{\"units\":\"data\",\"value\":1},\"x\":{\"field\":\"In\"},\"y\":{\"field\":\"Out\"}},\"id\":\"98fb8105-21b0-4a8f-bfaa-5e58452ce6dd\",\"type\":\"Rect\"},{\"attributes\":{},\"id\":\"4650337f-b55d-4015-abdb-b37b7e58813c\",\"type\":\"BasicTicker\"},{\"attributes\":{\"axis_line_color\":{\"value\":null},\"formatter\":{\"id\":\"52a7a22f-57b6-4bbc-a236-5e49c03868f3\",\"type\":\"BasicTickFormatter\"},\"major_tick_line_color\":{\"value\":null},\"plot\":{\"id\":\"1df13f87-62fa-492c-aa1b-7eb09631e8a8\",\"subtype\":\"Figure\",\"type\":\"Plot\"},\"ticker\":{\"id\":\"4650337f-b55d-4015-abdb-b37b7e58813c\",\"type\":\"BasicTicker\"}},\"id\":\"da56266e-dfca-4553-8030-8b1dbad9b0fd\",\"type\":\"LinearAxis\"},{\"attributes\":{\"data_source\":{\"id\":\"ce089d1b-1653-465a-9f4d-6f625d548c13\",\"type\":\"ColumnDataSource\"},\"glyph\":{\"id\":\"3a4b234e-2804-4946-a38f-5cfab67a5c13\",\"type\":\"Rect\"},\"hover_glyph\":null,\"muted_glyph\":null,\"nonselection_glyph\":{\"id\":\"98fb8105-21b0-4a8f-bfaa-5e58452ce6dd\",\"type\":\"Rect\"},\"selection_glyph\":null,\"view\":{\"id\":\"e881b8ab-a562-4265-9bb2-5d40c391b162\",\"type\":\"CDSView\"}},\"id\":\"e50d80dc-26f8-491e-8920-7aaa5fe0c5ed\",\"type\":\"GlyphRenderer\"},{\"attributes\":{\"below\":[{\"id\":\"da56266e-dfca-4553-8030-8b1dbad9b0fd\",\"type\":\"LinearAxis\"}],\"left\":[{\"id\":\"673ca785-607d-4d30-937d-f2320d1d149a\",\"type\":\"LinearAxis\"}],\"renderers\":[{\"id\":\"da56266e-dfca-4553-8030-8b1dbad9b0fd\",\"type\":\"LinearAxis\"},{\"id\":\"078b4507-3848-4ce2-8bd5-2909635526d9\",\"type\":\"Grid\"},{\"id\":\"673ca785-607d-4d30-937d-f2320d1d149a\",\"type\":\"LinearAxis\"},{\"id\":\"0aec58e4-54c6-40ba-93d8-fd3934eca9df\",\"type\":\"Grid\"},{\"id\":\"f0beb439-b0d8-4a71-b885-8a2c967a5491\",\"type\":\"BoxAnnotation\"},{\"id\":\"e50d80dc-26f8-491e-8920-7aaa5fe0c5ed\",\"type\":\"GlyphRenderer\"},{\"id\":\"c95306d9-2ed0-451f-ae15-474207c0cebc\",\"type\":\"ColorBar\"}],\"right\":[{\"id\":\"c95306d9-2ed0-451f-ae15-474207c0cebc\",\"type\":\"ColorBar\"}],\"title\":{\"id\":\"4a8051db-7583-4546-a09a-62f32bf9162a\",\"type\":\"Title\"},\"toolbar\":{\"id\":\"8554efad-fde7-43b6-9fb3-9e1d081917fe\",\"type\":\"Toolbar\"},\"toolbar_location\":\"above\",\"x_range\":{\"id\":\"8c0d360a-f0e6-46c3-82bb-d5a456264a47\",\"type\":\"Range1d\"},\"x_scale\":{\"id\":\"1232a4c1-3fb7-40ee-bc91-22f2a1d0c723\",\"type\":\"LinearScale\"},\"y_range\":{\"id\":\"52abdb24-2385-4eaa-ac2d-cf715d973a79\",\"type\":\"Range1d\"},\"y_scale\":{\"id\":\"d3e33d89-835d-4c65-8539-bc8357eca1d1\",\"type\":\"LinearScale\"}},\"id\":\"1df13f87-62fa-492c-aa1b-7eb09631e8a8\",\"subtype\":\"Figure\",\"type\":\"Plot\"},{\"attributes\":{\"source\":{\"id\":\"ce089d1b-1653-465a-9f4d-6f625d548c13\",\"type\":\"ColumnDataSource\"}},\"id\":\"e881b8ab-a562-4265-9bb2-5d40c391b162\",\"type\":\"CDSView\"},{\"attributes\":{},\"id\":\"26acd03b-e31a-48dd-8f25-893457f8063d\",\"type\":\"BasicTickFormatter\"},{\"attributes\":{\"callback\":null,\"end\":25.5,\"start\":0.5},\"id\":\"8c0d360a-f0e6-46c3-82bb-d5a456264a47\",\"type\":\"Range1d\"},{\"attributes\":{\"fill_color\":{\"field\":\"Res\",\"transform\":{\"id\":\"599aa4fa-abd5-435e-9943-9af035f48a2b\",\"type\":\"LogColorMapper\"}},\"height\":{\"units\":\"data\",\"value\":1},\"line_color\":{\"value\":null},\"width\":{\"units\":\"data\",\"value\":1},\"x\":{\"field\":\"In\"},\"y\":{\"field\":\"Out\"}},\"id\":\"3a4b234e-2804-4946-a38f-5cfab67a5c13\",\"type\":\"Rect\"},{\"attributes\":{},\"id\":\"f25eceaa-e192-4939-a9c7-f814ef7ce336\",\"type\":\"BasicTicker\"},{\"attributes\":{\"overlay\":{\"id\":\"f0beb439-b0d8-4a71-b885-8a2c967a5491\",\"type\":\"BoxAnnotation\"}},\"id\":\"8ad7c900-3076-4138-a70d-6709c7953207\",\"type\":\"BoxZoomTool\"},{\"attributes\":{\"grid_line_color\":{\"value\":null},\"plot\":{\"id\":\"1df13f87-62fa-492c-aa1b-7eb09631e8a8\",\"subtype\":\"Figure\",\"type\":\"Plot\"},\"ticker\":{\"id\":\"4650337f-b55d-4015-abdb-b37b7e58813c\",\"type\":\"BasicTicker\"}},\"id\":\"078b4507-3848-4ce2-8bd5-2909635526d9\",\"type\":\"Grid\"},{\"attributes\":{\"callback\":null,\"tooltips\":[[\"In\",\"@In\"],[\"Out\",\"@Out\"],[\"Res\",\"@Res Ohm\"]]},\"id\":\"ad2ccfd4-011e-4ba7-8654-5f98faf0c0f1\",\"type\":\"HoverTool\"},{\"attributes\":{\"color_mapper\":{\"id\":\"599aa4fa-abd5-435e-9943-9af035f48a2b\",\"type\":\"LogColorMapper\"},\"formatter\":{\"id\":\"26acd03b-e31a-48dd-8f25-893457f8063d\",\"type\":\"BasicTickFormatter\"},\"location\":[0,0],\"plot\":{\"id\":\"1df13f87-62fa-492c-aa1b-7eb09631e8a8\",\"subtype\":\"Figure\",\"type\":\"Plot\"},\"ticker\":{\"id\":\"088b7736-ac74-47c4-90a5-d83bca775d5a\",\"type\":\"LogTicker\"}},\"id\":\"c95306d9-2ed0-451f-ae15-474207c0cebc\",\"type\":\"ColorBar\"},{\"attributes\":{},\"id\":\"192aa91a-848e-4fdf-ae48-15e1f8481d04\",\"type\":\"ResetTool\"}],\"root_ids\":[\"1df13f87-62fa-492c-aa1b-7eb09631e8a8\"]},\"title\":\"Bokeh Application\",\"version\":\"0.12.10\"}};\n",
       "    var render_items = [{\"docid\":\"665da248-6c33-404e-ba6d-31223d7669e5\",\"elementid\":\"0c5dd099-afe5-4388-8321-48f69c17cd7c\",\"modelid\":\"1df13f87-62fa-492c-aa1b-7eb09631e8a8\"}];\n",
       "\n",
       "    root.Bokeh.embed.embed_items(docs_json, render_items);\n",
       "  }\n",
       "\n",
       "  if (root.Bokeh !== undefined) {\n",
       "    embed_document(root);\n",
       "  } else {\n",
       "    var attempts = 0;\n",
       "    var timer = setInterval(function(root) {\n",
       "      if (root.Bokeh !== undefined) {\n",
       "        embed_document(root);\n",
       "        clearInterval(timer);\n",
       "      }\n",
       "      attempts++;\n",
       "      if (attempts > 100) {\n",
       "        console.log(\"Bokeh: ERROR: Unable to embed document because BokehJS library is missing\")\n",
       "        clearInterval(timer);\n",
       "      }\n",
       "    }, 10, root)\n",
       "  }\n",
       "})(window);"
      ],
      "application/vnd.bokehjs_exec.v0+json": ""
     },
     "metadata": {
      "application/vnd.bokehjs_exec.v0+json": {
       "id": "1df13f87-62fa-492c-aa1b-7eb09631e8a8"
      }
     },
     "output_type": "display_data"
    }
   ],
   "source": [
    "ft.test_fischer(voltage=0.1, avgs=5)"
   ]
  },
  {
   "cell_type": "markdown",
   "metadata": {},
   "source": [
    "# Save as FischerTester (.ft) object"
   ]
  },
  {
   "cell_type": "code",
   "execution_count": 5,
   "metadata": {},
   "outputs": [
    {
     "name": "stdout",
     "output_type": "stream",
     "text": [
      "File already exists.\n",
      "To prevent data loss the oldfile, eventually with a number appended, has beenmoved in the subfolder duplicates.\n",
      "\n"
     ]
    }
   ],
   "source": [
    "ft.save(\"DC_Loom_2.ft\")"
   ]
  },
  {
   "cell_type": "markdown",
   "metadata": {},
   "source": [
    "# Load Fischer Tester (.ft) objects"
   ]
  },
  {
   "cell_type": "code",
   "execution_count": 2,
   "metadata": {},
   "outputs": [],
   "source": [
    "ft = FischerTester.load_ft(\"2017-12-06-DC_Loom_2.ft\")"
   ]
  },
  {
   "cell_type": "code",
   "execution_count": 3,
   "metadata": {},
   "outputs": [
    {
     "data": {
      "text/html": [
       "\n",
       "<div class=\"bk-root\">\n",
       "    <div class=\"bk-plotdiv\" id=\"f94a1002-84aa-48d6-8b02-3345455db03e\"></div>\n",
       "</div>"
      ]
     },
     "metadata": {},
     "output_type": "display_data"
    },
    {
     "data": {
      "application/javascript": [
       "(function(root) {\n",
       "  function embed_document(root) {\n",
       "    var docs_json = {\"2d6f1299-7cdc-4a6e-bb4f-ba2c3f526a2a\":{\"roots\":{\"references\":[{\"attributes\":{\"data_source\":{\"id\":\"168a3108-e732-4b8e-b257-b2496fdb80a5\",\"type\":\"ColumnDataSource\"},\"glyph\":{\"id\":\"b26cc701-8a19-4bcd-903e-1374bf551f0b\",\"type\":\"Rect\"},\"hover_glyph\":null,\"muted_glyph\":null,\"nonselection_glyph\":{\"id\":\"c1f6d1db-6070-437d-815c-73d3e20b759b\",\"type\":\"Rect\"},\"selection_glyph\":null,\"view\":{\"id\":\"b0a61389-7f32-4b47-bfc7-e9092e86b4c4\",\"type\":\"CDSView\"}},\"id\":\"1ea13d17-4563-464b-928a-bfb88b208d94\",\"type\":\"GlyphRenderer\"},{\"attributes\":{\"overlay\":{\"id\":\"c994509a-05fd-4383-9fe5-725966ebffc0\",\"type\":\"BoxAnnotation\"}},\"id\":\"222a9a5b-de40-4a75-8713-3a285a008085\",\"type\":\"BoxZoomTool\"},{\"attributes\":{},\"id\":\"93a12190-dbe6-4d27-b180-f90517e8e927\",\"type\":\"BasicTickFormatter\"},{\"attributes\":{},\"id\":\"cd1ac17e-3365-4d25-a220-e0c9864c3a6a\",\"type\":\"LogTicker\"},{\"attributes\":{},\"id\":\"02b05c6f-620a-4e9e-a110-5d6b88882325\",\"type\":\"LinearScale\"},{\"attributes\":{},\"id\":\"eedc0f36-aa13-43cb-a644-f2e8cb295089\",\"type\":\"BasicTicker\"},{\"attributes\":{},\"id\":\"15181231-1b0a-4fcd-883b-9a2b84c131d0\",\"type\":\"BasicTickFormatter\"},{\"attributes\":{\"callback\":null,\"end\":25.5,\"start\":0.5},\"id\":\"c11f5342-4c22-4c42-b0a0-7930de202a52\",\"type\":\"Range1d\"},{\"attributes\":{\"color_mapper\":{\"id\":\"d3ed8e5c-8cb8-4490-9c86-b85c92fa99df\",\"type\":\"LogColorMapper\"},\"formatter\":{\"id\":\"c5cb8e00-73ba-4507-8615-964f219b69aa\",\"type\":\"BasicTickFormatter\"},\"location\":[0,0],\"plot\":{\"id\":\"e455c3c2-aa39-4b8a-a42b-52688cc8ae35\",\"subtype\":\"Figure\",\"type\":\"Plot\"},\"ticker\":{\"id\":\"cd1ac17e-3365-4d25-a220-e0c9864c3a6a\",\"type\":\"LogTicker\"}},\"id\":\"521d1fe4-548e-4caa-b596-b3d2f731c3bc\",\"type\":\"ColorBar\"},{\"attributes\":{\"high\":5000000.0,\"low\":0,\"palette\":[\"#09a800\",\"#0da902\",\"#10aa04\",\"#13ac06\",\"#17ad08\",\"#1aaf0a\",\"#1eb00c\",\"#21b10e\",\"#25b310\",\"#28b412\",\"#2bb514\",\"#2fb717\",\"#32b819\",\"#36ba1b\",\"#39bb1d\",\"#3cbc1f\",\"#40be21\",\"#43bf23\",\"#47c125\",\"#4ac227\",\"#4dc329\",\"#51c52b\",\"#54c62d\",\"#58c72f\",\"#5bc931\",\"#5eca33\",\"#62cc35\",\"#65cd37\",\"#69ce39\",\"#6cd03b\",\"#6fd13d\",\"#73d340\",\"#76d442\",\"#7ad544\",\"#7dd746\",\"#80d848\",\"#84d94a\",\"#87db4c\",\"#8bdc4e\",\"#8ede50\",\"#92df52\",\"#95e054\",\"#98e256\",\"#9ce358\",\"#9fe45a\",\"#a3e65c\",\"#a6e75e\",\"#a9e960\",\"#adea62\",\"#b0eb64\",\"#b4ed66\",\"#b7ee68\",\"#baf06b\",\"#bef16d\",\"#c1f26f\",\"#c5f471\",\"#c8f573\",\"#cbf675\",\"#cff877\",\"#d2f979\",\"#d6fb7b\",\"#d9fc7d\",\"#dcfd7f\",\"#e0ff81\",\"#e3ff82\",\"#e3fb80\",\"#e3f77e\",\"#e4f37c\",\"#e4ef7a\",\"#e5eb78\",\"#e5e776\",\"#e6e374\",\"#e6df72\",\"#e7db70\",\"#e7d76e\",\"#e8d36c\",\"#e8cf69\",\"#e9cb67\",\"#e9c765\",\"#e9c363\",\"#eabf61\",\"#eabb5f\",\"#ebb75d\",\"#ebb35b\",\"#ecaf59\",\"#ecab57\",\"#eda755\",\"#eda253\",\"#ee9e51\",\"#ee9a4f\",\"#ef964d\",\"#ef924b\",\"#ef8e49\",\"#f08a47\",\"#f08645\",\"#f18243\",\"#f17e41\",\"#f27a3e\",\"#f2763c\",\"#f3723a\",\"#f36e38\",\"#f46a36\",\"#f46634\",\"#f46232\",\"#f55e30\",\"#f55a2e\",\"#f6562c\",\"#f6522a\",\"#f74e28\",\"#f74a26\",\"#f84624\",\"#f84222\",\"#f93e20\",\"#f93a1e\",\"#fa361c\",\"#fa321a\",\"#fa2e18\",\"#fb2a16\",\"#fb2613\",\"#fc2211\",\"#fc1e0f\",\"#fd1a0d\",\"#fd160b\",\"#fe1209\",\"#fe0e07\",\"#ff0a05\",\"#ff0603\",\"#ff0201\",\"#ff0202\",\"#ff0505\",\"#ff0909\",\"#ff0c0c\",\"#ff1010\",\"#ff1313\",\"#ff1717\",\"#ff1a1a\",\"#ff1e1e\",\"#ff2121\",\"#ff2525\",\"#ff2828\",\"#ff2c2c\",\"#ff2f2f\",\"#ff3333\",\"#ff3636\",\"#ff3a3a\",\"#ff3e3d\",\"#ff4141\",\"#ff4544\",\"#ff4848\",\"#ff4c4b\",\"#ff4f4f\",\"#ff5352\",\"#ff5656\",\"#ff5a59\",\"#ff5d5d\",\"#ff6160\",\"#ff6464\",\"#ff6867\",\"#ff6b6b\",\"#ff6f6e\",\"#ff7272\",\"#ff7675\",\"#ff7979\",\"#ff7d7c\",\"#ff8080\",\"#ff8483\",\"#ff8787\",\"#ff8b8a\",\"#ff8e8e\",\"#ff9291\",\"#ff9595\",\"#ff9998\",\"#ff9c9c\",\"#ffa09f\",\"#ffa3a3\",\"#ffa7a6\",\"#ffaaaa\",\"#ffaead\",\"#ffb2b1\",\"#ffb5b4\",\"#ffb9b8\",\"#ffbcbb\",\"#ffc0bf\",\"#ffc3c2\",\"#ffc7c6\",\"#ffcac9\",\"#ffcecd\",\"#ffd1d0\",\"#ffd5d4\",\"#ffd8d7\",\"#ffdcdb\",\"#ffdfde\",\"#ffe0e0\",\"#ffe1e0\",\"#ffe1e1\",\"#ffe2e1\",\"#ffe2e2\",\"#ffe3e2\",\"#ffe3e3\",\"#ffe4e3\",\"#ffe4e4\",\"#ffe5e4\",\"#ffe5e5\",\"#ffe6e5\",\"#ffe6e6\",\"#ffe7e6\",\"#ffe7e7\",\"#ffe8e7\",\"#ffe8e8\",\"#ffe9e8\",\"#ffe9e9\",\"#ffeae9\",\"#ffeaea\",\"#ffebea\",\"#ffebeb\",\"#ffeceb\",\"#ffecec\",\"#ffedec\",\"#ffeded\",\"#ffeeed\",\"#ffeeee\",\"#ffefee\",\"#ffefef\",\"#fff0ef\",\"#fff0f0\",\"#fff1f1\",\"#fff1f1\",\"#fff2f2\",\"#fff2f2\",\"#fff3f3\",\"#fff3f3\",\"#fff4f4\",\"#fff4f4\",\"#fff5f5\",\"#fff5f5\",\"#fff6f6\",\"#fff6f6\",\"#fff7f7\",\"#fff7f7\",\"#fff8f8\",\"#fff8f8\",\"#fff9f9\",\"#fff9f9\",\"#fffafa\",\"#fffafa\",\"#fffbfb\",\"#fffbfb\",\"#fffcfc\",\"#fffcfc\",\"#fffdfd\",\"#fffdfd\",\"#fffefe\",\"#fffefe\",\"#ffffff\",\"#ffffff\",\"#ffffff\"]},\"id\":\"d3ed8e5c-8cb8-4490-9c86-b85c92fa99df\",\"type\":\"LogColorMapper\"},{\"attributes\":{\"fill_alpha\":{\"value\":0.1},\"fill_color\":{\"value\":\"#1f77b4\"},\"height\":{\"units\":\"data\",\"value\":1},\"line_alpha\":{\"value\":0.1},\"line_color\":{\"value\":\"#1f77b4\"},\"width\":{\"units\":\"data\",\"value\":1},\"x\":{\"field\":\"In\"},\"y\":{\"field\":\"Out\"}},\"id\":\"c1f6d1db-6070-437d-815c-73d3e20b759b\",\"type\":\"Rect\"},{\"attributes\":{\"active_drag\":\"auto\",\"active_inspect\":\"auto\",\"active_scroll\":\"auto\",\"active_tap\":\"auto\",\"tools\":[{\"id\":\"5c64b393-5b44-4785-acf4-fe1e787a4799\",\"type\":\"HoverTool\"},{\"id\":\"df793bc4-7eda-4a79-8bf6-091608c767e0\",\"type\":\"SaveTool\"},{\"id\":\"6a2ce9e9-9f4f-4d6d-9f58-457d54b5b4e7\",\"type\":\"PanTool\"},{\"id\":\"222a9a5b-de40-4a75-8713-3a285a008085\",\"type\":\"BoxZoomTool\"},{\"id\":\"61421aea-6899-4090-b00e-f7ec4e953ab5\",\"type\":\"ResetTool\"},{\"id\":\"5a886f49-e527-4146-9136-1042a2a8aa0a\",\"type\":\"WheelZoomTool\"}]},\"id\":\"e288c5ae-a59c-47e7-a68f-3fc0b0fca81b\",\"type\":\"Toolbar\"},{\"attributes\":{},\"id\":\"61421aea-6899-4090-b00e-f7ec4e953ab5\",\"type\":\"ResetTool\"},{\"attributes\":{\"grid_line_color\":{\"value\":null},\"plot\":{\"id\":\"e455c3c2-aa39-4b8a-a42b-52688cc8ae35\",\"subtype\":\"Figure\",\"type\":\"Plot\"},\"ticker\":{\"id\":\"9c9a0fa4-ff01-4f03-b1bd-a4a83f9a69e9\",\"type\":\"BasicTicker\"}},\"id\":\"82cf0dc4-fe3a-4b90-a995-b78f7df716df\",\"type\":\"Grid\"},{\"attributes\":{},\"id\":\"5a886f49-e527-4146-9136-1042a2a8aa0a\",\"type\":\"WheelZoomTool\"},{\"attributes\":{\"axis_line_color\":{\"value\":null},\"formatter\":{\"id\":\"15181231-1b0a-4fcd-883b-9a2b84c131d0\",\"type\":\"BasicTickFormatter\"},\"major_tick_line_color\":{\"value\":null},\"plot\":{\"id\":\"e455c3c2-aa39-4b8a-a42b-52688cc8ae35\",\"subtype\":\"Figure\",\"type\":\"Plot\"},\"ticker\":{\"id\":\"eedc0f36-aa13-43cb-a644-f2e8cb295089\",\"type\":\"BasicTicker\"}},\"id\":\"63c0a99d-5a61-4963-97e9-b626325900bd\",\"type\":\"LinearAxis\"},{\"attributes\":{\"callback\":null,\"tooltips\":[[\"In\",\"@In\"],[\"Out\",\"@Out\"],[\"Res\",\"@Res Ohm\"]]},\"id\":\"5c64b393-5b44-4785-acf4-fe1e787a4799\",\"type\":\"HoverTool\"},{\"attributes\":{\"callback\":null,\"end\":25.5,\"start\":0.5},\"id\":\"57088173-9094-40e7-915b-35046c351202\",\"type\":\"Range1d\"},{\"attributes\":{\"below\":[{\"id\":\"84e9532f-2446-4fbc-8434-a70c79f8bc43\",\"type\":\"LinearAxis\"}],\"left\":[{\"id\":\"63c0a99d-5a61-4963-97e9-b626325900bd\",\"type\":\"LinearAxis\"}],\"renderers\":[{\"id\":\"84e9532f-2446-4fbc-8434-a70c79f8bc43\",\"type\":\"LinearAxis\"},{\"id\":\"82cf0dc4-fe3a-4b90-a995-b78f7df716df\",\"type\":\"Grid\"},{\"id\":\"63c0a99d-5a61-4963-97e9-b626325900bd\",\"type\":\"LinearAxis\"},{\"id\":\"89094032-fe8e-401d-9997-7375bcce9f09\",\"type\":\"Grid\"},{\"id\":\"c994509a-05fd-4383-9fe5-725966ebffc0\",\"type\":\"BoxAnnotation\"},{\"id\":\"1ea13d17-4563-464b-928a-bfb88b208d94\",\"type\":\"GlyphRenderer\"},{\"id\":\"521d1fe4-548e-4caa-b596-b3d2f731c3bc\",\"type\":\"ColorBar\"}],\"right\":[{\"id\":\"521d1fe4-548e-4caa-b596-b3d2f731c3bc\",\"type\":\"ColorBar\"}],\"title\":{\"id\":\"e57c25c9-30df-401d-8fe6-1240381bc9cc\",\"type\":\"Title\"},\"toolbar\":{\"id\":\"e288c5ae-a59c-47e7-a68f-3fc0b0fca81b\",\"type\":\"Toolbar\"},\"toolbar_location\":\"above\",\"x_range\":{\"id\":\"c11f5342-4c22-4c42-b0a0-7930de202a52\",\"type\":\"Range1d\"},\"x_scale\":{\"id\":\"02b05c6f-620a-4e9e-a110-5d6b88882325\",\"type\":\"LinearScale\"},\"y_range\":{\"id\":\"57088173-9094-40e7-915b-35046c351202\",\"type\":\"Range1d\"},\"y_scale\":{\"id\":\"c3eb5bbe-08f6-49d1-aee9-da9bc3f7aaf6\",\"type\":\"LinearScale\"}},\"id\":\"e455c3c2-aa39-4b8a-a42b-52688cc8ae35\",\"subtype\":\"Figure\",\"type\":\"Plot\"},{\"attributes\":{\"dimension\":1,\"grid_line_color\":{\"value\":null},\"plot\":{\"id\":\"e455c3c2-aa39-4b8a-a42b-52688cc8ae35\",\"subtype\":\"Figure\",\"type\":\"Plot\"},\"ticker\":{\"id\":\"eedc0f36-aa13-43cb-a644-f2e8cb295089\",\"type\":\"BasicTicker\"}},\"id\":\"89094032-fe8e-401d-9997-7375bcce9f09\",\"type\":\"Grid\"},{\"attributes\":{},\"id\":\"df793bc4-7eda-4a79-8bf6-091608c767e0\",\"type\":\"SaveTool\"},{\"attributes\":{\"plot\":null,\"text\":\"Fischer Tester\"},\"id\":\"e57c25c9-30df-401d-8fe6-1240381bc9cc\",\"type\":\"Title\"},{\"attributes\":{\"source\":{\"id\":\"168a3108-e732-4b8e-b257-b2496fdb80a5\",\"type\":\"ColumnDataSource\"}},\"id\":\"b0a61389-7f32-4b47-bfc7-e9092e86b4c4\",\"type\":\"CDSView\"},{\"attributes\":{},\"id\":\"c3eb5bbe-08f6-49d1-aee9-da9bc3f7aaf6\",\"type\":\"LinearScale\"},{\"attributes\":{\"axis_line_color\":{\"value\":null},\"formatter\":{\"id\":\"93a12190-dbe6-4d27-b180-f90517e8e927\",\"type\":\"BasicTickFormatter\"},\"major_tick_line_color\":{\"value\":null},\"plot\":{\"id\":\"e455c3c2-aa39-4b8a-a42b-52688cc8ae35\",\"subtype\":\"Figure\",\"type\":\"Plot\"},\"ticker\":{\"id\":\"9c9a0fa4-ff01-4f03-b1bd-a4a83f9a69e9\",\"type\":\"BasicTicker\"}},\"id\":\"84e9532f-2446-4fbc-8434-a70c79f8bc43\",\"type\":\"LinearAxis\"},{\"attributes\":{},\"id\":\"c5cb8e00-73ba-4507-8615-964f219b69aa\",\"type\":\"BasicTickFormatter\"},{\"attributes\":{\"fill_color\":{\"field\":\"Res\",\"transform\":{\"id\":\"d3ed8e5c-8cb8-4490-9c86-b85c92fa99df\",\"type\":\"LogColorMapper\"}},\"height\":{\"units\":\"data\",\"value\":1},\"line_color\":{\"value\":null},\"width\":{\"units\":\"data\",\"value\":1},\"x\":{\"field\":\"In\"},\"y\":{\"field\":\"Out\"}},\"id\":\"b26cc701-8a19-4bcd-903e-1374bf551f0b\",\"type\":\"Rect\"},{\"attributes\":{\"bottom_units\":\"screen\",\"fill_alpha\":{\"value\":0.5},\"fill_color\":{\"value\":\"lightgrey\"},\"left_units\":\"screen\",\"level\":\"overlay\",\"line_alpha\":{\"value\":1.0},\"line_color\":{\"value\":\"black\"},\"line_dash\":[4,4],\"line_width\":{\"value\":2},\"plot\":null,\"render_mode\":\"css\",\"right_units\":\"screen\",\"top_units\":\"screen\"},\"id\":\"c994509a-05fd-4383-9fe5-725966ebffc0\",\"type\":\"BoxAnnotation\"},{\"attributes\":{},\"id\":\"9c9a0fa4-ff01-4f03-b1bd-a4a83f9a69e9\",\"type\":\"BasicTicker\"},{\"attributes\":{},\"id\":\"6a2ce9e9-9f4f-4d6d-9f58-457d54b5b4e7\",\"type\":\"PanTool\"},{\"attributes\":{\"callback\":null,\"column_names\":[\"index\",\"Res\",\"Out\",\"In\"],\"data\":{\"In\":[1,1,1,1,1,1,1,1,1,1,1,1,1,1,1,1,1,1,1,1,1,1,1,1,1,2,2,2,2,2,2,2,2,2,2,2,2,2,2,2,2,2,2,2,2,2,2,2,2,2,3,3,3,3,3,3,3,3,3,3,3,3,3,3,3,3,3,3,3,3,3,3,3,3,3,4,4,4,4,4,4,4,4,4,4,4,4,4,4,4,4,4,4,4,4,4,4,4,4,4,5,5,5,5,5,5,5,5,5,5,5,5,5,5,5,5,5,5,5,5,5,5,5,5,5,6,6,6,6,6,6,6,6,6,6,6,6,6,6,6,6,6,6,6,6,6,6,6,6,6,7,7,7,7,7,7,7,7,7,7,7,7,7,7,7,7,7,7,7,7,7,7,7,7,7,8,8,8,8,8,8,8,8,8,8,8,8,8,8,8,8,8,8,8,8,8,8,8,8,8,9,9,9,9,9,9,9,9,9,9,9,9,9,9,9,9,9,9,9,9,9,9,9,9,9,10,10,10,10,10,10,10,10,10,10,10,10,10,10,10,10,10,10,10,10,10,10,10,10,10,11,11,11,11,11,11,11,11,11,11,11,11,11,11,11,11,11,11,11,11,11,11,11,11,11,12,12,12,12,12,12,12,12,12,12,12,12,12,12,12,12,12,12,12,12,12,12,12,12,12,13,13,13,13,13,13,13,13,13,13,13,13,13,13,13,13,13,13,13,13,13,13,13,13,13,14,14,14,14,14,14,14,14,14,14,14,14,14,14,14,14,14,14,14,14,14,14,14,14,14,15,15,15,15,15,15,15,15,15,15,15,15,15,15,15,15,15,15,15,15,15,15,15,15,15,16,16,16,16,16,16,16,16,16,16,16,16,16,16,16,16,16,16,16,16,16,16,16,16,16,17,17,17,17,17,17,17,17,17,17,17,17,17,17,17,17,17,17,17,17,17,17,17,17,17,18,18,18,18,18,18,18,18,18,18,18,18,18,18,18,18,18,18,18,18,18,18,18,18,18,19,19,19,19,19,19,19,19,19,19,19,19,19,19,19,19,19,19,19,19,19,19,19,19,19,20,20,20,20,20,20,20,20,20,20,20,20,20,20,20,20,20,20,20,20,20,20,20,20,20,21,21,21,21,21,21,21,21,21,21,21,21,21,21,21,21,21,21,21,21,21,21,21,21,21,22,22,22,22,22,22,22,22,22,22,22,22,22,22,22,22,22,22,22,22,22,22,22,22,22,23,23,23,23,23,23,23,23,23,23,23,23,23,23,23,23,23,23,23,23,23,23,23,23,23,24,24,24,24,24,24,24,24,24,24,24,24,24,24,24,24,24,24,24,24,24,24,24,24,24,25,25,25,25,25,25,25,25,25,25,25,25,25,25,25,25,25,25,25,25,25,25,25,25,25],\"Out\":[1,2,3,4,5,6,7,8,9,10,11,12,13,14,15,16,17,18,19,20,21,22,23,24,25,1,2,3,4,5,6,7,8,9,10,11,12,13,14,15,16,17,18,19,20,21,22,23,24,25,1,2,3,4,5,6,7,8,9,10,11,12,13,14,15,16,17,18,19,20,21,22,23,24,25,1,2,3,4,5,6,7,8,9,10,11,12,13,14,15,16,17,18,19,20,21,22,23,24,25,1,2,3,4,5,6,7,8,9,10,11,12,13,14,15,16,17,18,19,20,21,22,23,24,25,1,2,3,4,5,6,7,8,9,10,11,12,13,14,15,16,17,18,19,20,21,22,23,24,25,1,2,3,4,5,6,7,8,9,10,11,12,13,14,15,16,17,18,19,20,21,22,23,24,25,1,2,3,4,5,6,7,8,9,10,11,12,13,14,15,16,17,18,19,20,21,22,23,24,25,1,2,3,4,5,6,7,8,9,10,11,12,13,14,15,16,17,18,19,20,21,22,23,24,25,1,2,3,4,5,6,7,8,9,10,11,12,13,14,15,16,17,18,19,20,21,22,23,24,25,1,2,3,4,5,6,7,8,9,10,11,12,13,14,15,16,17,18,19,20,21,22,23,24,25,1,2,3,4,5,6,7,8,9,10,11,12,13,14,15,16,17,18,19,20,21,22,23,24,25,1,2,3,4,5,6,7,8,9,10,11,12,13,14,15,16,17,18,19,20,21,22,23,24,25,1,2,3,4,5,6,7,8,9,10,11,12,13,14,15,16,17,18,19,20,21,22,23,24,25,1,2,3,4,5,6,7,8,9,10,11,12,13,14,15,16,17,18,19,20,21,22,23,24,25,1,2,3,4,5,6,7,8,9,10,11,12,13,14,15,16,17,18,19,20,21,22,23,24,25,1,2,3,4,5,6,7,8,9,10,11,12,13,14,15,16,17,18,19,20,21,22,23,24,25,1,2,3,4,5,6,7,8,9,10,11,12,13,14,15,16,17,18,19,20,21,22,23,24,25,1,2,3,4,5,6,7,8,9,10,11,12,13,14,15,16,17,18,19,20,21,22,23,24,25,1,2,3,4,5,6,7,8,9,10,11,12,13,14,15,16,17,18,19,20,21,22,23,24,25,1,2,3,4,5,6,7,8,9,10,11,12,13,14,15,16,17,18,19,20,21,22,23,24,25,1,2,3,4,5,6,7,8,9,10,11,12,13,14,15,16,17,18,19,20,21,22,23,24,25,1,2,3,4,5,6,7,8,9,10,11,12,13,14,15,16,17,18,19,20,21,22,23,24,25,1,2,3,4,5,6,7,8,9,10,11,12,13,14,15,16,17,18,19,20,21,22,23,24,25,1,2,3,4,5,6,7,8,9,10,11,12,13,14,15,16,17,18,19,20,21,22,23,24,25],\"Res\":{\"__ndarray__\":\"AAAAAAAA+P+5CsYqgP1wQEDOeyxNlXlAGPZqx+G8eUBAMft4ILB5QKs7d1WltnlALDlX503OeUAIWva9J6V5QJopjwLWcEZBTuMBuAvuTEF5xTu0N5VQQcIuy1iWK2xBzYhSEBKtZUHsPgJFq6lCQcOJp6rpgEpBhCOhCJV9R0GRLsI43HRBQSONk2YkJ0dBUiedmCng0EDpACFDHyI+QQc7hWyogD5BLVngUmxYakGYYzv/SpA+QWGspuVBF0FBPgdxOlGVz0ADUcYj5P1wQAAAAAAAAPj/UMBiUHbDeEAoh9HX7t54QEYl/vkf0HhA66/E3ZHTeEDn8eaOfNl4QF7ZUhrMwXhAIWay4FiSVEG4cDKvYAc3QVM4gMADQjpBNzJzlgofQUGODWlydSdiQX1p3/DW8T1BmCqa0e40QkEHLhIkDE85QVkv7y6iOUJBqOim0OT7TkEyyPT5KgHSQKjQ40KVHmZBM6n2VZVlNUFDTaRhXO5MQetOZyG5fU5BxZGwiA3dT0En/cDADrPMQJpH8ZE2rXlAfJnVE82/eEAAAAAAAAD4/7FIM/Mfw4BApnO64vu+gEBRO2vvJr2AQHrvEjDDuoBA7xeCU+uvgEBmBUvnbkhZQTfPedmiz09B+NEvlhriZkEjck8TrfxDQbTSdTEozlpBxiJQ/QxVQUGHsCoZxuVLQbyaAQi0IUhBib994JF6UkF3osn8tt9kQc85hNjFVtFAj+czvGtYOEFJ+LslrjdnQXc0gfch20tBvkZj5t19UEFuHWB8fYlXQYtC0UYH2s5ANxyM1VzDeUC2Xrw4at94QNbXK3T4wYBAAAAAAAAA+P9t0z07oMeAQMeXHtLqy4BAMVf2kpHOgECnXP3awsaAQJZlnbrjezpBgmbVGarGOEG+RxveunZFQbOm4aO8ADpBO1G4jJ5Jd0HjOFLP9QBPQVIDHcZ8nUxBLRrjsRkQOUGRhATh6JJeQffoxyUij1BBU8NsC6TH0EA3bzfQ33JIQbKHX/huo0xBUXlemLO3RUHXvmzht4RKQfacaj3vvlZBViVpXSuizkB7jS+qlbh5QLEOCImQzHhAOYF2/7y4gEBif0u5msqAQAAAAAAAAPj//VUkUSHHgEAV4FERFMiAQDeQWpq0toBAQ3/sYtWQVEF4tJs0Jxs+QUZYlp9sS0FB8R2M2dIfQkFmAiMxZhlQQf7OzwMR4DpB7Lq4td74Q0FK8petDBVFQfJ6slOVg0hBVeT/B9zSS0GIbC+DKWnRQMK/cAKDBlJBnfxgDhKCSUHJIKX6QOBOQRo8yN9xaDxBB+Y2fqdoeUHPtCKdD6/NQKx8Tl0orHlA1gEQkiTJeEAh6pMbn7yAQFuVIFYpyoBAxID56u3DgEAAAAAAAAD4/17k1SZQx4BAhCG31dK+gEDhOc6XuONAQZhqbVsbHENBHorK++oKYEHZ9+fC0QpHQRRc5HK8WUVBFzUstoDmQEEqGKBCtJtYQQosblfOFFhBtxfejkNTTEHpmVqN1zZAQRSMkuKavtFADtgwRDYcQ0H0benBC/xeQVukYMsYpltBBgwBbhzjrEGaN1VvoAJEQcJlI+Lzf85AA0sxDVGzeUCWNIH/Pt14QEXgvYmMwIBApSceS2zOgEBgtjQKbMiAQPJBPTAcyYBAAAAAAAAA+P8g+t99/cGAQDGMDx4W2mtBb7w9jO+/S0HkaBAlipxFQe2V2+/gEEdB1PN4IHL8aEGIaMlVLWNCQQOvfjDapExBuh7fGouhQUFxP2KQusZMQeHPRJoeMTtBzhVUtDb80EAU0TH5wG44QZKTr5QATURBnMcxw2kUQEHTcPqspi5GQUgPPLjUFU1BRsx2yIMHz0B2eZER2sJ5QNwLVkR9u3hAVeS3O9u1gEDfbdZh98GAQNePFX82w4BAmlSN2yXGgEAEUJLmSMKAQAAAAAAAAPj/E9uM49sHcUHJLkF3E6dAQfh2EmdWX2BBrhlWwuT/Q0F3PKUGNUhDQdIjTj7bvD9BFpahgzVTaUHtzCp8UF08QZGaQjrYkEpBdoToWVTfS0GnEBjjirDRQIHmmsV2zz1BREXMPrFKQEH8dfvD8QRAQZWUFApL0UJBQiWaZOhnikH8/pdxCZrNQHRdwX573H1B+tsuFowsM0GZnkkIneQ+QXUMb2GyWzlBUEwz6ZP7ekGAwBzVpcY6QU4hZpklm0RBby3ktNPJT0EAAAAAAAD4/4LWLJU5sU1BBvHPwur3b0BLXzehwtlbQUVh8kJn2TVBZgMUmj24UEE04imBZg1LQf5M/ii0nD9Bpfq9+/kDPkHWYiRO1LRaQWM+Y/G0T9BAWRc1i/53WUG04zZ/h3dRQbPFzLtkg05BjZhpapMdREFVkRKRzUFDQRcM/NyCDM5A5KIKtS9FUEFtmIh3rOhAQTfkOtETn1pBDlPKyi7xa0FhVgrJK6w9QWA7f85pSEBBO6zs2jtbSEEjr7SG6qVgQRTTiusQQlZBAAAAAAAA+P/LUS0qpnxOQdI1VQL48m9AvTL1x4EHR0G1qwPCbUAxQZVfKc5wt1dBSrGSbxaQbkGtU2A+cVlaQZvzhwRXiE1BvU1vuowh0UAYcjgputpBQRnimLDgVzdBSCeh1ISNR0H3w/fwxeFTQXFvq9YHcFBB3GZJyAR4z0Dzdy8sjX42QckW0m7ST0FBC6EdaNsAcUGXcSA4ppM5QSF7i43Xp05BqClMCqDNREGOO29CMmVcQf1+/o8hx5JBpLG1Nk70b0DlX8cynjZuQQAAAAAAAPj/qQLRH3EKQEFnkmMOOZFSQU5+V3d3RmFB7iXKC4VbSEG3TufdSeRHQRncW+GwL4FBnENWWdPmRUFd76JLTx3QQBnSJpK/PkNByWuJ1XOzQUHwogeCJLBEQdEIdroPeIZBumCD6Un6VkHvJcXW5t7MQD8ZgPSBhkNBPZ+XGLgHRUGHv24Z4mZCQZpwdvEoQlJBlVBeQcIpkkH9bTnLqfE7QdvxVk4QQkRBne2XmV7ZQUES6wzXwpJnQUDD22w5+G9AQGJTprqPQUEAAAAAAAD4/0TkIkIXlTdBZr361zgyRkGBVDpk+Rs7QVJxvB+9E0ZBNpuO20PPPkHGG5sIZWBFQR61Aajv9NBA5fmb13eeTUGLj9ms20BEQZHfZcGeoTtBaTx3S1DfOUE21PtBHc9NQYRBEsynNdBAUK5TrLzhVkFuW6nR+/U9QQFYbDKcykpBb3KEqrjuQ0Hus0JgQYBRQTDpX86OS1VBwK6hw4c6dkGYDvY7dWBGQXDjYD+IN0BB4Ezk7GQjUUEyoSxI6t1XQQUY9yfySERBAAAAAAAA+P9EzxWyjBRaQRpjig2IAnBAECR22GxsQUGSqJau6nJeQa6/rKAOzEBBzSei70Y10ECc5rakicxAQa86EQMMqkZBcMhjqqrgXEGEr2xVzdlFQa7riKdcjmBBbKPKxWtDzUC87inOa+hNQX6N/lxgDDpB40GQr/MmSkFpsKUzfSxKQXAJYLqJ3VFB1SjSL37dREGbjASRreVBQYasL9KXelBBA6QjkA1kUUEev4BtkVxCQWJDEXCqPWBB6EqAyb2AW0EclcB9q61AQQAAAAAAAPj/WZ5CvwriRkGnDbKi4AJwQKE7IRVM4ERBKLOaEMWcREGHJpURp7HQQOLVboGFJJJBmEc5J4kHP0G4ZPZ2lL9rQV7a+NSZ0ktBqdP7aotuSEEhpnfiisfOQLzD8aTpClRBE65MtN3ETEGqwhPhvv5IQSdshO0IpHhB80qif330UEGyfaZ+c8tVQcoLJDWbYUFBrQOjTwxQREHhYX3RJ+c6QV//Q70MdEtBH2b9keb+akE/RBfE5jBYQU5P0bMR/m9Ax4ANTSWQREEAAAAAAAD4/zq3q21MzkRBR6ElF0gtS0EyP8uHV75AQf8wpY+B29BA4ulTSzzKcEF7UO47PX1TQZPXzxTj21dB3VxkZxVoRUHEUJIDajFFQYm2ezvNic9ACOf7wJlbPEEcoXEH0gFLQfvhArCbA0NBsuPgW/c9WUGOnRUaUKNJQW4t2mifk0JBE1OIHm0CQUFjeZM16zpGQacPjyh4q0FBn6X/S47yQUG51t1cVYJgQWnKvAYo5L5ByRseGyKvQkGg+O4yVQhwQMUA8rFEomFBAAAAAAAA+P80aNiegO1RQUVrh+N6rjRBP8Df77de0UDQ7NYWAYNOQSSAiNag3mZBY8X95ec3m0E6OGa3L4U8QUXBUGI4s0BB5q5N05FWzUBUxJA/UXJ4QZ23yqDG0jZBsJt14oJZYUGG99HtS6BAQXW4GrfbpEhBCYxjkd7qPkEm6R337S9AQYz2qE87+FJBiY+XpUycX0FTiceS9WQ8Qerka7GrA4NBXPdBZkDCSUE54NG+vlFFQS7NBCX+RkpBgVKbjp9CS0Hz/YKTNL9bQQAAAAAAAPj/29CitAH5T0EhIK3vmx/QQFgVgshoDDlBnZZKDOmuRkHmp+nC1/9FQWL/ge5BjjxBf3ktBLeCYEGxTGDsxBrOQFZyrnCaaURBCK9igzYBREG1LGolPLpCQSpsLSIhb1JBcpKhm68GQUEaJw3dnGVPQcDbvcctb0ZBQQv8o9cjSUEf2gHzpQRFQQd+KBEAj0VB7q1x1pt+U0FVHIIqg109QbsDeXki/0FBZXwYMGGCSkHb5uQecothQcLLnHA+bVBBXr1JW88dUkEAAAAAAAD4/+/J1m56BtFA8nCegA0lXUEFzrMHhWFJQb8BjUGAD4VBxEzLA35FS0F676Gbm+VBQexfpDVg581AKqOjhNJYVkGanQ22jbI6Qe9x4XpU2jpBHqtiGO5YNkFf/fuzNK5FQVBXadIsa0RBq/+AAjtdUEE6TTYQuplSQUGGZyrScCxBpNQc2BnSQ0Fq+rmK/Y1NQan/sLltkEJBmUXXCTlDNkFeKcUWEB5BQbEX4cK7ZzxB1K+AoUdvNkEnUWS5LoJBQVBzZcVIfEdBAAAAAAAA+P+uuiV8wv1JQZa18IQoCD9B8bGL+GDZQEHU0N3OmEdMQVfIHmCBJkVB1stHrQwoxEBWa0ajBpo2QaQD+tNhK1FBX7P27fk9SEEPuSllh9ZKQUJND8gAyFhBwtwfLe3ZaEEW0Iu8EaQ3Qb0DvbIMTj9Bi+EqZIvYkEH7kSbJn9lPQSEtq0vXzjRBQSuX4nJzOEEIrCySj0Q5QZELQAM01FlBEoWo/qzSWUHPjgDCcLJCQaNfQhnbNEJBB6JMlar5PUGDOP+G5VbRQAAAAAAAAPj/xcRqfGOkQUE3geNH6hJMQSkn2suQ00dBPaJFKDKZRUERfLD8zCrOQLlaEvE5DUNBrz4+Fms4VEEOcKtNMZxcQX3ZfjmMJT1BWitaW6TgTEEo1k9Ao8lJQcybd0YN0khBeAi/HLE3W0HBQMSP95VTQYWK5gn1RUxBonHDL3zKYEGUSGqbxvtHQVG1eePH6EFBfDZpOQyeREE5vp0vC7xiQQRq2FJAWD5Buu3XXePrQ0EFUR0FTdtHQfV03gIcKdBAbZsbs4DkNUEAAAAAAAD4/5SI/KE8gkRBYEQHIrKlYEHpmHAhq0lLQd6AL1por8xATlKAzpzKQUHVEjOSZKJFQZpZSeMsM0dBAmaALl1JUkFDJlY5zH9DQcF/z9Fw9zdBNXc+V2poR0EzF3GxvmNBQdIiVisyCFBB9VPZRZ/dbUH5pt4Ged8/QaZIe0RcCU5BweSc+Nv4REExf4JcmydVQVxhtDnpQkBByY4ZooGyXUFeYDvHGvVGQUAXpbz6QGpBl4RDWpMn0UAW+hPMk1pQQZ6Rhl0QjUZBAAAAAAAA+P+T9ilYjtxEQTujowerE1hB68I7hgSJzUDOWkpe1sdFQfhY/q7a/EJBxjadAQzFM0HH4A2FWuE9QXxQu+TLCTlBcVtVea48Y0GA1uQdrOxAQaw5Ql6gPD1B/CdyzP3tS0EVc/sho31pQdCUO9UmdktBml+oEsQdV0GWi+8AjI9FQSezhpDnOlhB0K3oPEHSR0GUgEn2dpFeQSeh/YwanlRB6M7Rc3R8QUHZM5LxNcDQQOYowXrnSEhB4z+sY4LcQEG1ZprNgNlJQQAAAAAAAPj/ijHq2cwyUUEmvBV2g/fNQCUrNIsu7zhBT/bBLmlWRkEFVOCXFXJMQf87zc+oJDhBvhBGpFuGSkF1/NEdkjo7QQENtZ2O0UJB3iTJBNBvQEFLxrLpjPlXQZvyMfXbmTZB83qwFgG7RkHceUxbuV9IQapgtQ2moGJBV3TD7xu7SkHsxKNhSf1BQREYwUUMsERBO5YXNwrISEEGRDEUn5hPQaIxT6YQZtFAOVWxUc5/UkG62i8YRo9FQUYiGb9XB4VBMRXvf4PgQEEAAAAAAAD4/zb5tSk/Hs5ADeWfMtqgFkGMciOSYZ0aQdaKDOGXYg5BtRh0392nHEE78HbvNFwlQffVD4w7Sh1BVBRlVBYlGUGYWdNUy74GQVYwnvK12xJB6Xt4OP99HEG6hVB0LxIcQb2vKiNWtBJBoVhCTvhDSkHn/PUfnws0QRNl33uTdS1BQiT5LmzXJ0Gmn7S9TKUaQR29W3/4cR1BMhWNswKGkkDI+2+FzgYMQacF1FYiIUFB/mc4CUpoG0ELZbv2XQEWQVfJA1BgjRBBAAAAAAAA+P8=\",\"dtype\":\"float64\",\"shape\":[625]},\"index\":[0,1,2,3,4,5,6,7,8,9,10,11,12,13,14,15,16,17,18,19,20,21,22,23,24,25,26,27,28,29,30,31,32,33,34,35,36,37,38,39,40,41,42,43,44,45,46,47,48,49,50,51,52,53,54,55,56,57,58,59,60,61,62,63,64,65,66,67,68,69,70,71,72,73,74,75,76,77,78,79,80,81,82,83,84,85,86,87,88,89,90,91,92,93,94,95,96,97,98,99,100,101,102,103,104,105,106,107,108,109,110,111,112,113,114,115,116,117,118,119,120,121,122,123,124,125,126,127,128,129,130,131,132,133,134,135,136,137,138,139,140,141,142,143,144,145,146,147,148,149,150,151,152,153,154,155,156,157,158,159,160,161,162,163,164,165,166,167,168,169,170,171,172,173,174,175,176,177,178,179,180,181,182,183,184,185,186,187,188,189,190,191,192,193,194,195,196,197,198,199,200,201,202,203,204,205,206,207,208,209,210,211,212,213,214,215,216,217,218,219,220,221,222,223,224,225,226,227,228,229,230,231,232,233,234,235,236,237,238,239,240,241,242,243,244,245,246,247,248,249,250,251,252,253,254,255,256,257,258,259,260,261,262,263,264,265,266,267,268,269,270,271,272,273,274,275,276,277,278,279,280,281,282,283,284,285,286,287,288,289,290,291,292,293,294,295,296,297,298,299,300,301,302,303,304,305,306,307,308,309,310,311,312,313,314,315,316,317,318,319,320,321,322,323,324,325,326,327,328,329,330,331,332,333,334,335,336,337,338,339,340,341,342,343,344,345,346,347,348,349,350,351,352,353,354,355,356,357,358,359,360,361,362,363,364,365,366,367,368,369,370,371,372,373,374,375,376,377,378,379,380,381,382,383,384,385,386,387,388,389,390,391,392,393,394,395,396,397,398,399,400,401,402,403,404,405,406,407,408,409,410,411,412,413,414,415,416,417,418,419,420,421,422,423,424,425,426,427,428,429,430,431,432,433,434,435,436,437,438,439,440,441,442,443,444,445,446,447,448,449,450,451,452,453,454,455,456,457,458,459,460,461,462,463,464,465,466,467,468,469,470,471,472,473,474,475,476,477,478,479,480,481,482,483,484,485,486,487,488,489,490,491,492,493,494,495,496,497,498,499,500,501,502,503,504,505,506,507,508,509,510,511,512,513,514,515,516,517,518,519,520,521,522,523,524,525,526,527,528,529,530,531,532,533,534,535,536,537,538,539,540,541,542,543,544,545,546,547,548,549,550,551,552,553,554,555,556,557,558,559,560,561,562,563,564,565,566,567,568,569,570,571,572,573,574,575,576,577,578,579,580,581,582,583,584,585,586,587,588,589,590,591,592,593,594,595,596,597,598,599,600,601,602,603,604,605,606,607,608,609,610,611,612,613,614,615,616,617,618,619,620,621,622,623,624]}},\"id\":\"168a3108-e732-4b8e-b257-b2496fdb80a5\",\"type\":\"ColumnDataSource\"}],\"root_ids\":[\"e455c3c2-aa39-4b8a-a42b-52688cc8ae35\"]},\"title\":\"Bokeh Application\",\"version\":\"0.12.10\"}};\n",
       "    var render_items = [{\"docid\":\"2d6f1299-7cdc-4a6e-bb4f-ba2c3f526a2a\",\"elementid\":\"f94a1002-84aa-48d6-8b02-3345455db03e\",\"modelid\":\"e455c3c2-aa39-4b8a-a42b-52688cc8ae35\"}];\n",
       "\n",
       "    root.Bokeh.embed.embed_items(docs_json, render_items);\n",
       "  }\n",
       "\n",
       "  if (root.Bokeh !== undefined) {\n",
       "    embed_document(root);\n",
       "  } else {\n",
       "    var attempts = 0;\n",
       "    var timer = setInterval(function(root) {\n",
       "      if (root.Bokeh !== undefined) {\n",
       "        embed_document(root);\n",
       "        clearInterval(timer);\n",
       "      }\n",
       "      attempts++;\n",
       "      if (attempts > 100) {\n",
       "        console.log(\"Bokeh: ERROR: Unable to embed document because BokehJS library is missing\")\n",
       "        clearInterval(timer);\n",
       "      }\n",
       "    }, 10, root)\n",
       "  }\n",
       "})(window);"
      ],
      "application/vnd.bokehjs_exec.v0+json": ""
     },
     "metadata": {
      "application/vnd.bokehjs_exec.v0+json": {
       "id": "e455c3c2-aa39-4b8a-a42b-52688cc8ae35"
      }
     },
     "output_type": "display_data"
    }
   ],
   "source": [
    "ft.plot()"
   ]
  },
  {
   "cell_type": "markdown",
   "metadata": {},
   "source": [
    "# Save as html files"
   ]
  },
  {
   "cell_type": "code",
   "execution_count": 4,
   "metadata": {},
   "outputs": [
    {
     "name": "stderr",
     "output_type": "stream",
     "text": [
      "/opt/anaconda3/lib/python3.5/site-packages/bokeh/io/saving.py:125: UserWarning: save() called but no resources were supplied and output_file(...) was never called, defaulting to resources.CDN\n",
      "  warn(\"save() called but no resources were supplied and output_file(...) was never called, defaulting to resources.CDN\")\n",
      "/opt/anaconda3/lib/python3.5/site-packages/bokeh/io/saving.py:138: UserWarning: save() called but no title was supplied and output_file(...) was never called, using default title 'Bokeh Plot'\n",
      "  warn(\"save() called but no title was supplied and output_file(...) was never called, using default title 'Bokeh Plot'\")\n"
     ]
    }
   ],
   "source": [
    "ft.save_html(\"DC_Loom2.html\")"
   ]
  }
 ],
 "metadata": {
  "anaconda-cloud": {},
  "kernelspec": {
   "display_name": "Python [default]",
   "language": "python",
   "name": "python3"
  },
  "language_info": {
   "codemirror_mode": {
    "name": "ipython",
    "version": 3
   },
   "file_extension": ".py",
   "mimetype": "text/x-python",
   "name": "python",
   "nbconvert_exporter": "python",
   "pygments_lexer": "ipython3",
   "version": "3.5.4"
  },
  "toc": {
   "nav_menu": {},
   "number_sections": true,
   "sideBar": true,
   "skip_h1_title": false,
   "toc_cell": false,
   "toc_position": {
    "height": "894px",
    "left": "0px",
    "right": "1708px",
    "top": "136px",
    "width": "212px"
   },
   "toc_section_display": "block",
   "toc_window_display": true
  }
 },
 "nbformat": 4,
 "nbformat_minor": 2
}
