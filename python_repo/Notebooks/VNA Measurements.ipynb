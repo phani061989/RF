{
 "cells": [
  {
   "cell_type": "markdown",
   "metadata": {},
   "source": [
    "# Measurements using the Vector Network Analyzer (VNA)\n",
    "\n",
    "This notebook explains the data acquisition using a vector network analyizer (VNA) of our lab.\n",
    "\n",
    "# Task: Acquire and save data using the VNA. "
   ]
  },
  {
   "cell_type": "markdown",
   "metadata": {},
   "source": [
    "## Import Libraries\n",
    "\n",
    "We use customized python libraries written/modified by us to control the measurement devices. To use these libraries in this notebook, we fist need to import them.\n",
    "\n",
    "| Name | Comment |\n",
    "|------|---------|\n",
    "| Instruments | Library to control devices |"
   ]
  },
  {
   "cell_type": "code",
   "execution_count": null,
   "metadata": {},
   "outputs": [],
   "source": [
    "# Import libraries\n",
    "import Instruments"
   ]
  },
  {
   "cell_type": "markdown",
   "metadata": {},
   "source": [
    "## Connect to the device\n",
    "\n",
    "In this step, we establish a connection to the measurement device. In our case, we need the VNA. Therefore, we use the E5071C library and initialize a vna session for the device specified by the IP. We have currently two VNAs in the lab which are labeld **VNA1** and **VNA2** on the device. We can test if the connection was succesful, by sending an identification command to the device."
   ]
  },
  {
   "cell_type": "code",
   "execution_count": null,
   "metadata": {},
   "outputs": [],
   "source": [
    "# !!Please check if you use the correct VNA by checking the label on the \n",
    "# device!!\n",
    "vna = Instruments.VNA('VNA3', 'Cooler')  # When measuring with a Cryostat\n",
    "vna = Instruments.VNA('VNA2', None)  # When measuring just cables"
   ]
  },
  {
   "cell_type": "markdown",
   "metadata": {},
   "source": [
    "## Acquire and save data\n",
    "Now we can start using the measurement device. First, we need to set the measurement parameters. The name is saved automatically with the name we give.\n",
    "There are two options how to measure. We use the same parameters or define different segments with different parameters.\n",
    "\n",
    "### Set parameters of VNA and measure\n",
    "#### Simple Sweep"
   ]
  },
  {
   "cell_type": "code",
   "execution_count": null,
   "metadata": {
    "collapsed": true
   },
   "outputs": [],
   "source": [
    "start_frequency = 1.0 # Start frequency in GHz\n",
    "stop_frequency = 10.0 # Stop frequency in GHz\n",
    "npoints = 1601        # Number of data points. Should be always at maximum \n",
    "                      # 1601\n",
    "navg = 10             # Number of averages\n",
    "Spar = 'S21'          # S-Parameter. S11: Reflection S21: Transmission\n",
    "BW = 100.0            # IF-Bandwidth. Lower values lead to less noise but \n",
    "                      # longer measurement time.\n",
    "power = -20           # Output power of the VNA\n",
    "\n",
    "vna.meas_complex_avg([start_frequency, stop_frequency], npoints, navg, power,\n",
    "                     Spar, filename='measurements/measurement.dm')"
   ]
  },
  {
   "cell_type": "markdown",
   "metadata": {},
   "source": [
    "#### Different measurement parameters for different segments"
   ]
  },
  {
   "cell_type": "code",
   "execution_count": null,
   "metadata": {
    "collapsed": true
   },
   "outputs": [],
   "source": [
    "start_frequency1 = 1.0 # Start frequency in GHz\n",
    "stop_frequency1 = 5.0  # Stop frequency in GHz\n",
    "npoints1 = 200         # Number of data points. Should be always at maximum 1601\n",
    "BW1 = 100.0            # IF-Bandwidth. Lower values lead to less noise but longer measurement time.\n",
    "\n",
    "start_frequency2 = 5.0 # Start frequency in GHz\n",
    "stop_frequency2 = 10.0 # Stop frequency in GHz\n",
    "npoints2 = 420         # Number of data points. Should be always at maximum 1601\n",
    "BW1 = 300.0            # IF-Bandwidth. Lower values lead to less noise but longer measurement time.\n",
    "\n",
    "seg1 = {'start': start_frequency1,'stop':stop_frequency1,'npoints':npoints1, 'BW':BW1}\n",
    "seg2 = {'start': start_frequency2,'stop':stop_frequency2,'npoints':npoints2, 'BW':BW2}\n",
    "seg= [seg1,seg2]\n",
    "\n",
    "\n",
    "Spar = 'S21'          # S-Parameter. S11: Reflection S21: Transmission\n",
    "navg = 10             # Number of averages           \n",
    "power = -20           # Output power of the VNA\n",
    "\n",
    "\n",
    "vna.meas_complex_segm(seg, navg, power, Spar, filename='measurements/measurement.dm')"
   ]
  },
  {
   "cell_type": "markdown",
   "metadata": {},
   "source": [
    "### Full 2 Port Calibration\n",
    "\n",
    "If you want to measure Full-Two Port characterizations, ie. excitations on Port2. You have to add the Parameter \n",
    "`power_port2=True.`"
   ]
  },
  {
   "cell_type": "code",
   "execution_count": null,
   "metadata": {
    "collapsed": true
   },
   "outputs": [],
   "source": [
    "start_frequency = 1.0 # Start frequency in GHz\n",
    "stop_frequency = 10.0 # Stop frequency in GHz\n",
    "npoints = 1601        # Number of data points. Should be always at maximum \n",
    "                      # 1601\n",
    "navg = 10             # Number of averages\n",
    "Spar = 'S21'          # S-Parameter. S11: Reflection S21: Transmission\n",
    "BW = 100.0            # IF-Bandwidth. Lower values lead to less noise but \n",
    "                      # longer measurement time.\n",
    "power = -20           # Output power of the VNA\n",
    "\n",
    "vna.meas_complex_avg([start_frequency, stop_frequency], npoints, navg, power,\n",
    "                     Spar, filename='measurements/measurement.dm',\n",
    "                     power_port2=True)"
   ]
  },
  {
   "cell_type": "markdown",
   "metadata": {},
   "source": [
    "# Task achieved\n",
    "\n",
    "Voilá, we are done. We have acquired data using the VNA and saved the data as .dm file. Now we can proceed to analyze the data which is explained in the notebook **Data Analysis.ipnb**. "
   ]
  }
 ],
 "metadata": {
  "hide_input": false,
  "kernelspec": {
   "display_name": "Python 3",
   "language": "python",
   "name": "python3"
  },
  "language_info": {
   "codemirror_mode": {
    "name": "ipython",
    "version": 3
   },
   "file_extension": ".py",
   "mimetype": "text/x-python",
   "name": "python",
   "nbconvert_exporter": "python",
   "pygments_lexer": "ipython3",
   "version": "3.6.1"
  },
  "latex_envs": {
   "bibliofile": "biblio.bib",
   "cite_by": "apalike",
   "current_citInitial": 1,
   "eqLabelWithNumbers": true,
   "eqNumInitial": 0
  },
  "nav_menu": {},
  "toc": {
   "navigate_menu": true,
   "number_sections": true,
   "sideBar": true,
   "threshold": 6,
   "toc_cell": false,
   "toc_section_display": "block",
   "toc_window_display": true
  },
  "toc_position": {
   "left": "1215px",
   "right": "21px",
   "top": "49px",
   "width": "300px"
  }
 },
 "nbformat": 4,
 "nbformat_minor": 1
}
